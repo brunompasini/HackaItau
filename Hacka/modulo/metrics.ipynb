{
 "cells": [
  {
   "cell_type": "code",
   "execution_count": 7,
   "metadata": {},
   "outputs": [],
   "source": [
    "import numpy as np\n",
    "\n",
    "def portfolio_return(w, e_r):\n",
    "    \"\"\"\n",
    "    Essa função calcula o retorno esperado de uma carteira dado o vetor de retornos esperados.\n",
    "    Args:\n",
    "        w (np.array): vetor com os pesos da carteira\n",
    "        e_r (np.array): vetor com os retornos esperados\n",
    "    Returns:\n",
    "        float: retorno esperado da carteira\n",
    "    \"\"\"\n",
    "    return float(w.T@e_r)\n",
    "\n",
    "def portfolio_vol(w, cov):\n",
    "    \"\"\"\n",
    "    Essa função calcula a volatilidade de uma carteira dado a matriz de covariância.\n",
    "    Args:\n",
    "        w (np.array): vetor com os pesos da carteira\n",
    "        cov (np.array): matriz da covariância\n",
    "    Returns:\n",
    "        float: volatilidade do carteira\n",
    "    \"\"\"\n",
    "    return np.sqrt(w.T@cov@w)\n",
    "\n",
    "def sharpe_ratio(w, e_r, cov, r_f=0):\n",
    "    \"\"\"\n",
    "    Essa função calcula o Sharpe Ratio de uma carteira dado a matriz de covariância e vetor de retornos esperados.\n",
    "    Args:\n",
    "        w (np.array): vetor com os pesos da carteira\n",
    "        e_r (np.array): vetor com os retornos esperados\n",
    "        cov (np.array): matriz da covariância\n",
    "        r_f (float): Taxa Livre de Risco\n",
    "    Returns:\n",
    "        float: Sharpe Ratio do portfólio\n",
    "    \"\"\"\n",
    "    return (portfolio_return(w, e_r)-r_f)/portfolio_vol(w, cov)    "
   ]
  }
 ],
 "metadata": {
  "kernelspec": {
   "display_name": "Python 3",
   "language": "python",
   "name": "python3"
  },
  "language_info": {
   "codemirror_mode": {
    "name": "ipython",
    "version": 3
   },
   "file_extension": ".py",
   "mimetype": "text/x-python",
   "name": "python",
   "nbconvert_exporter": "python",
   "pygments_lexer": "ipython3",
   "version": "3.8.5"
  }
 },
 "nbformat": 4,
 "nbformat_minor": 4
}
