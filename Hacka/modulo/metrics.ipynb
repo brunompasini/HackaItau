{
 "cells": [
  {
   "cell_type": "code",
   "execution_count": 7,
   "metadata": {},
   "outputs": [],
   "source": [
    "import numpy as np\n",
    "\n",
    "def portfolio_return(w, e_r):\n",
    "    \"\"\"\n",
    "    Essa função calcula o retorno esperado de uma carteira dado o vetor de retornos esperados.\n",
    "    Args:\n",
    "        w (np.array): vetor com os pesos da carteira\n",
    "        e_r (np.array): vetor com os retornos esperados\n",
    "    Returns:\n",
    "        float: retorno esperado da carteira\n",
    "    \"\"\"\n",
    "    return float(w.T@e_r)\n",
    "\n",
    "def portfolio_vol(w, cov):\n",
    "    \"\"\"\n",
    "    Essa função calcula a volatilidade de uma carteira dado a matriz de covariância.\n",
    "    Args:\n",
    "        w (np.array): vetor com os pesos da carteira\n",
    "        cov (np.array): matriz da covariância\n",
    "    Returns:\n",
    "        float: volatilidade do carteira\n",
    "    \"\"\"\n",
    "    return np.sqrt(w.T@cov@w)\n",
    "\n",
    "def sharpe_ratio(w, e_r, cov, r_f=0):\n",
    "    \"\"\"\n",
    "    Essa função calcula o Sharpe Ratio de uma carteira dado a matriz de covariância e vetor de retornos esperados.\n",
    "    Args:\n",
    "        w (np.array): vetor com os pesos da carteira\n",
    "        e_r (np.array): vetor com os retornos esperados\n",
    "        cov (np.array): matriz da covariância\n",
    "        r_f (float): Taxa Livre de Risco\n",
    "    Returns:\n",
    "        float: Sharpe Ratio do portfólio\n",
    "    \"\"\"\n",
    "    return (portfolio_return(w, e_r)-r_f)/portfolio_vol(w, cov)    "
   ]
  },
  {
   "cell_type": "code",
   "execution_count": 10,
   "metadata": {},
   "outputs": [],
   "source": [
    "import numpy as np \n",
    "\n",
    "def minimize_vol(rp, e_r, cov):\n",
    "    n =  e_r.shape[0]\n",
    "    \n",
    "    #Primeiro Chute\n",
    "    w = (np.ones(n)*1/n).reshape(n, 1)#Carteira\n",
    "    l = np.array([[0.],[0.]])#Multiplicadores de Lagrange\n",
    "    \n",
    "    #Calculando grad(c(x)) \n",
    "    dc = np.hstack((np.ones((n,1)), e_r))\n",
    "    \n",
    "    #Criando a Matriz A\n",
    "    def generate_A(Sigma, dc, n):\n",
    "        a = np.hstack([2*Sigma, dc])\n",
    "        b = np.hstack([gradc.T, np.zeros((n,n))])\n",
    "    return np.vstack((a, b))\n",
    "    \n",
    "    #Criando o vetor b.\n",
    "    def generate_b(Sigma, gradc, er, l, w, rp):\n",
    "        a = 2*Sigma@w + gradc@l\n",
    "        b = np.ones((1,n))@w - 1\n",
    "        c = er.T@w - rp\n",
    "    return -1*np.vstack((a, b, c))\n",
    "    \n",
    "    A = generate_A(Sigma, gradc, n)\n",
    "    \n",
    "    for i in range(1000):\n",
    "        b = generate_b(Sigma, gradc, er, l, w, rp)\n",
    "        dx = np.linalg.inv(A)@b\n",
    "        dw, dl = np.vsplit(dx, 2)\n",
    "        w = w + 0.01*dw\n",
    "        l = l + 0.01*dl\n",
    "\n",
    "    return w"
   ]
  },
  {
   "cell_type": "code",
   "execution_count": null,
   "metadata": {},
   "outputs": [],
   "source": [
    "portfolio_return"
   ]
  }
 ],
 "metadata": {
  "kernelspec": {
   "display_name": "Python 3",
   "language": "python",
   "name": "python3"
  },
  "language_info": {
   "codemirror_mode": {
    "name": "ipython",
    "version": 3
   },
   "file_extension": ".py",
   "mimetype": "text/x-python",
   "name": "python",
   "nbconvert_exporter": "python",
   "pygments_lexer": "ipython3",
   "version": "3.8.5"
  }
 },
 "nbformat": 4,
 "nbformat_minor": 4
}
