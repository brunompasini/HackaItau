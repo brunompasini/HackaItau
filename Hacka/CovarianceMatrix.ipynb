{
 "cells": [
  {
   "cell_type": "code",
   "execution_count": 3,
   "metadata": {},
   "outputs": [],
   "source": [
    "import pandas as pd \n",
    "import numpy as np"
   ]
  },
  {
   "cell_type": "code",
   "execution_count": 4,
   "metadata": {},
   "outputs": [],
   "source": [
    "df = pd.read_csv(\"dados_ajustados.csv\", delimiter=';', decimal=',', index_col='Data')"
   ]
  },
  {
   "cell_type": "code",
   "execution_count": 20,
   "metadata": {},
   "outputs": [],
   "source": [
    "class CovarianceEstimator:\n",
    "    \n",
    "    def __init__(self, returns):\n",
    "        self.returns = returns.dropna()\n",
    "    \n",
    "    def honey_shrinkage(self):\n",
    "        X = self.returns.values\n",
    "        s = self.returns.cov().values\n",
    "        n = s.shape[0]\n",
    "        F = np.zeros((n,n))\n",
    "        \n",
    "        \n",
    "        #### Estimando F\n",
    "        var = self.returns.var().values\n",
    "        corr = self.returns.corr().values\n",
    "        n = corr.shape[0]\n",
    "        r = (np.sum(corr) - corr.shape[0])/(n**2-n)\n",
    "        \n",
    "        \n",
    "        for i in range(n):\n",
    "            for j in range(n):\n",
    "                if i == j:\n",
    "                    F[i][i] = var[i]\n",
    "                else:\n",
    "                    F[i][j] = r*np.sqrt(var[i]*var[j])\n",
    "          \n",
    "        \n",
    "        returns_media = self.returns-self.returns.mean()\n",
    "        pi = 0\n",
    "        for i in range(n):\n",
    "            for j in range(n):\n",
    "                a =1/returns_media.shape[0] *np.sum(((returns_media.iloc[:, i]*returns_media.iloc[:, 1])**2).values)\n",
    "                pi = pi+a\n",
    "\n",
    "        \n",
    "        print(print(pi))\n",
    "        print(self.returns.corr())\n",
    "    \n",
    "        return s"
   ]
  },
  {
   "cell_type": "code",
   "execution_count": 25,
   "metadata": {},
   "outputs": [],
   "source": [
    "class CovarianceEstimator:\n",
    "    \n",
    "    def __init__(self, returns):\n",
    "        self.returns = returns.dropna()\n",
    "        self.S = returns.cov().values\n",
    "    \n",
    "    def honey_shrinkage(self):\n",
    "        \"\"\"\n",
    "        Pegamos da biblioteca pyPortfolioopt.\n",
    "        \"\"\"\n",
    "        \n",
    "        \n",
    "        X = np.nan_to_num(self.returns.values)\n",
    "        t, n = np.shape(X)\n",
    "\n",
    "        S = self.S  # sample cov matrix\n",
    "\n",
    "        # Constant correlation target\n",
    "        var = np.diag(S).reshape(-1, 1)\n",
    "        std = np.sqrt(var)\n",
    "        _var = np.tile(var, (n,))\n",
    "        _std = np.tile(std, (n,))\n",
    "        r_bar = (np.sum(S / (_std * _std.T)) - n) / (n * (n - 1))\n",
    "        F = r_bar * (_std * _std.T)\n",
    "        F[np.eye(n) == 1] = var.reshape(-1)\n",
    "\n",
    "        # Estimate pi\n",
    "        Xm = X - X.mean(axis=0)\n",
    "        y = Xm ** 2\n",
    "        pi_mat = np.dot(y.T, y) / t - 2 * np.dot(Xm.T, Xm) * S / t + S ** 2\n",
    "        pi_hat = np.sum(pi_mat)\n",
    "\n",
    "        # Theta matrix, expanded term by term\n",
    "        term1 = np.dot((Xm ** 3).T, Xm) / t\n",
    "        help_ = np.dot(Xm.T, Xm) / t\n",
    "        help_diag = np.diag(help_)\n",
    "        term2 = np.tile(help_diag, (n, 1)).T * S\n",
    "        term3 = help_ * _var\n",
    "        term4 = _var * S\n",
    "        theta_mat = term1 - term2 - term3 + term4\n",
    "        theta_mat[np.eye(n) == 1] = np.zeros(n)\n",
    "        rho_hat = sum(np.diag(pi_mat)) + r_bar * np.sum(\n",
    "            np.dot((1 / std), std.T) * theta_mat\n",
    "        )\n",
    "\n",
    "        # Estimate gamma\n",
    "        gamma_hat = np.linalg.norm(S - F, \"fro\") ** 2\n",
    "\n",
    "        # Compute shrinkage constant\n",
    "        kappa_hat = (pi_hat - rho_hat) / gamma_hat\n",
    "        delta = max(0.0, min(1.0, kappa_hat / t))\n",
    "\n",
    "        # Compute shrunk covariance matrix\n",
    "        shrunk_cov = delta * F + (1 - delta) * S\n",
    "        return shrunk_cov, delta"
   ]
  },
  {
   "cell_type": "code",
   "execution_count": 23,
   "metadata": {},
   "outputs": [
    {
     "data": {
      "text/plain": [
       "(array([[ 2.11616664e-04,  2.77392650e-05, -8.85529330e-06,\n",
       "         -4.50948667e-06],\n",
       "        [ 2.77392650e-05,  2.21610254e-04,  2.42372255e-05,\n",
       "          1.23196785e-05],\n",
       "        [-8.85529330e-06,  2.42372255e-05,  1.47806359e-05,\n",
       "          5.61930131e-06],\n",
       "        [-4.50948667e-06,  1.23196785e-05,  5.61930131e-06,\n",
       "          3.98535755e-06]]),\n",
       " 0.21796513871096473)"
      ]
     },
     "execution_count": 23,
     "metadata": {},
     "output_type": "execute_result"
    }
   ],
   "source": [
    "a = CovarianceEstimator(df.pct_change())\n",
    "a.honey_shrinkage()"
   ]
  },
  {
   "cell_type": "code",
   "execution_count": 24,
   "metadata": {},
   "outputs": [
    {
     "data": {
      "text/html": [
       "<div>\n",
       "<style scoped>\n",
       "    .dataframe tbody tr th:only-of-type {\n",
       "        vertical-align: middle;\n",
       "    }\n",
       "\n",
       "    .dataframe tbody tr th {\n",
       "        vertical-align: top;\n",
       "    }\n",
       "\n",
       "    .dataframe thead th {\n",
       "        text-align: right;\n",
       "    }\n",
       "</style>\n",
       "<table border=\"1\" class=\"dataframe\">\n",
       "  <thead>\n",
       "    <tr style=\"text-align: right;\">\n",
       "      <th></th>\n",
       "      <th>SPXI</th>\n",
       "      <th>IBOV</th>\n",
       "      <th>IMAB</th>\n",
       "      <th>IRFM</th>\n",
       "    </tr>\n",
       "  </thead>\n",
       "  <tbody>\n",
       "    <tr>\n",
       "      <th>SPXI</th>\n",
       "      <td>0.000212</td>\n",
       "      <td>0.000022</td>\n",
       "      <td>-0.000015</td>\n",
       "      <td>-0.000008</td>\n",
       "    </tr>\n",
       "    <tr>\n",
       "      <th>IBOV</th>\n",
       "      <td>0.000022</td>\n",
       "      <td>0.000222</td>\n",
       "      <td>0.000027</td>\n",
       "      <td>0.000014</td>\n",
       "    </tr>\n",
       "    <tr>\n",
       "      <th>IMAB</th>\n",
       "      <td>-0.000015</td>\n",
       "      <td>0.000027</td>\n",
       "      <td>0.000015</td>\n",
       "      <td>0.000007</td>\n",
       "    </tr>\n",
       "    <tr>\n",
       "      <th>IRFM</th>\n",
       "      <td>-0.000008</td>\n",
       "      <td>0.000014</td>\n",
       "      <td>0.000007</td>\n",
       "      <td>0.000004</td>\n",
       "    </tr>\n",
       "  </tbody>\n",
       "</table>\n",
       "</div>"
      ],
      "text/plain": [
       "          SPXI      IBOV      IMAB      IRFM\n",
       "SPXI  0.000212  0.000022 -0.000015 -0.000008\n",
       "IBOV  0.000022  0.000222  0.000027  0.000014\n",
       "IMAB -0.000015  0.000027  0.000015  0.000007\n",
       "IRFM -0.000008  0.000014  0.000007  0.000004"
      ]
     },
     "execution_count": 24,
     "metadata": {},
     "output_type": "execute_result"
    }
   ],
   "source": [
    "df.pct_change().dropna().cov()"
   ]
  },
  {
   "cell_type": "code",
   "execution_count": 17,
   "metadata": {},
   "outputs": [
    {
     "data": {
      "text/plain": [
       "Data\n",
       "15/09/2020    1.005967e+10\n",
       "16/09/2020    9.935241e+09\n",
       "17/09/2020    1.001958e+10\n",
       "18/09/2020    9.660867e+09\n",
       "21/09/2020    9.407200e+09\n",
       "                  ...     \n",
       "29/03/2021    1.332148e+10\n",
       "30/03/2021    1.365385e+10\n",
       "31/03/2021    1.360342e+10\n",
       "01/04/2021    1.328333e+10\n",
       "05/04/2021    1.381058e+10\n",
       "Name: IBOV, Length: 135, dtype: float64"
      ]
     },
     "execution_count": 17,
     "metadata": {},
     "output_type": "execute_result"
    }
   ],
   "source": [
    "(df.iloc[:,1])**2"
   ]
  },
  {
   "cell_type": "code",
   "execution_count": 9,
   "metadata": {},
   "outputs": [],
   "source": [
    "r = df.pct_change().dropna()\n",
    "r = r - r.mean()"
   ]
  },
  {
   "cell_type": "code",
   "execution_count": 11,
   "metadata": {},
   "outputs": [
    {
     "data": {
      "text/plain": [
       "(135, 4)"
      ]
     },
     "execution_count": 11,
     "metadata": {},
     "output_type": "execute_result"
    }
   ],
   "source": [
    "df.shape"
   ]
  },
  {
   "cell_type": "code",
   "execution_count": null,
   "metadata": {},
   "outputs": [],
   "source": []
  }
 ],
 "metadata": {
  "kernelspec": {
   "display_name": "Python 3",
   "language": "python",
   "name": "python3"
  },
  "language_info": {
   "codemirror_mode": {
    "name": "ipython",
    "version": 3
   },
   "file_extension": ".py",
   "mimetype": "text/x-python",
   "name": "python",
   "nbconvert_exporter": "python",
   "pygments_lexer": "ipython3",
   "version": "3.8.5"
  }
 },
 "nbformat": 4,
 "nbformat_minor": 4
}
