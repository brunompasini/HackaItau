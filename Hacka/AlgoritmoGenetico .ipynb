{
 "cells": [
  {
   "cell_type": "code",
   "execution_count": 980,
   "metadata": {},
   "outputs": [],
   "source": [
    "import numpy as np \n",
    "import pandas as pd\n",
    "np.random.seed(42)"
   ]
  },
  {
   "cell_type": "code",
   "execution_count": 1104,
   "metadata": {},
   "outputs": [],
   "source": [
    "dados = pd.read_csv(\"dadoss.csv\", delimiter=\";\", decimal=\",\")\n",
    "dados = dados[[\"SAPR4\", \"ELET6\",\"VIVT3\", \"MGLU3\"]]\n",
    "retornos = dados.pct_change().dropna()\n",
    "cov = np.array(retornos.cov())\n",
    "e_r = np.array(retornos.mean()).reshape(4, 1)"
   ]
  },
  {
   "cell_type": "code",
   "execution_count": 1056,
   "metadata": {},
   "outputs": [],
   "source": [
    "def timing(func): \n",
    "    import time      \n",
    "    def wrapper(*args, **kwargs):          \n",
    "        t = time.clock()          \n",
    "        res = func(*args, **kwargs)          \n",
    "        print(func.__name__, time.clock()-t)         \n",
    "        return res      \n",
    "    return wrapper "
   ]
  },
  {
   "cell_type": "code",
   "execution_count": 1057,
   "metadata": {},
   "outputs": [],
   "source": [
    "def minimize_ipm(rp, e_r, cov, w):\n",
    "    n =  e_r.shape[0]\n",
    "    \n",
    "    #Primeiro Chute\n",
    "    #w = (np.random.randn(n)).reshape(n, 1)#Carteira\n",
    "    l = np.array([[1],[1/2]])#Multiplicadores de Lagrange\n",
    "    \n",
    "    #Calculando grad(c(x)) \n",
    "    dc = np.hstack((np.ones((n,1)), e_r))\n",
    "\n",
    "    #Criando a Matriz A\n",
    "    def generate_A(Sigma, dc, n, delta1 = 0, delta2 =0.0):\n",
    "        a = np.hstack([2*Sigma+delta1*np.eye(len(w)), dc])\n",
    "        b = np.hstack([dc.T, np.zeros((2,2))-delta2*np.eye(2)])\n",
    "        return np.vstack((a, b))\n",
    "    \n",
    "    #Criando o vetor b.\n",
    "    def generate_b(Sigma, dc, e_r, l, w, rp):\n",
    "        a = 2*Sigma@w + dc@l\n",
    "        b = np.ones((1,n))@w - 1\n",
    "        c = e_r.T@w - rp\n",
    "        return -1*np.vstack((a, b, c))\n",
    "    \n",
    "    def grad(w, cov, l, dc):\n",
    "        return (2*cov@w+ dc@l)\n",
    "    \n",
    "    A = generate_A(cov, dc, n)\n",
    "    \n",
    "\n",
    "    for i in range(100):                                               #while max(np.abs((grad(w,cov, l, dc)))) > eps:\n",
    "        b = generate_b(cov, dc, e_r, l, w, rp)\n",
    "        #print(\"b: \",b, \"\\n\")\n",
    "        dx = np.linalg.inv(A)@b\n",
    "        #print(\"dx: \", dx, \"\\n\")\n",
    "        dw, dl = dx[0:n][:], dx[n:n+2][:]\n",
    "        w = w + 0.01*dw\n",
    "        #print(\"w: \\n\", w, \"\\n\")\n",
    "        l = l + 0.01*dl\n",
    "        \n",
    "    return w"
   ]
  },
  {
   "cell_type": "code",
   "execution_count": 1236,
   "metadata": {},
   "outputs": [],
   "source": [
    "#@timing\n",
    "def minimize_gen(rp, er, cov, w_anterior):\n",
    "    n = er.shape[0]\n",
    "    \n",
    "    def chromossome(n):\n",
    "        x = np.random.rand(n)\n",
    "        return x/sum(x)\n",
    "    \n",
    "    def fitness_function(w, e_r=e_r, cov=cov, rp=rp, alpha = 10, beta = 1000):\n",
    "        w = w.reshape(n, 1)\n",
    "        return (w.T@cov@w + beta*(w.T@e_r -rp)**2)[0][0]\n",
    "    \n",
    "    def select_elite(population):\n",
    "        i = np.argmin([fitness_function(_) for _ in population])\n",
    "        return population[i]\n",
    "    \n",
    "    def new_population(population):\n",
    "        new_population = []\n",
    "        intermediate_population=[]\n",
    "    \n",
    "        elite = select_elite(population)\n",
    "    \n",
    "        for candidate in population:\n",
    "            c1, c2 = population[np.random.randint(0, len(population))][:], population[np.random.randint(0, len(population))][:]\n",
    "            ic = candidate +1*(c1-c2)\n",
    "        \n",
    "        for j in range(len(candidate)):\n",
    "            ic[j] = np.random.choice([elite[j], ic[j]], size = 1, p=[0.9, 0.1])\n",
    "            \n",
    "        ic = np.where(ic>=0, ic, 0)\n",
    "        \n",
    "        ic = ic/sum(ic)\n",
    "        \n",
    "        if fitness_function(ic) <= fitness_function(candidate):\n",
    "            new_population.append(ic)\n",
    "        else: \n",
    "            new_population.append(candidate)\n",
    "    \n",
    "        return new_population\n",
    "    \n",
    "\n",
    "    population_size = 100\n",
    "    population = []\n",
    "    for i in range(population_size):\n",
    "        population.append(w_anterior+.001*np.random.randn(len(w_anterior)))\n",
    "    for i in range(100):\n",
    "        population = new_population(population)\n",
    "\n",
    "    return(select_elite(population).reshape(n))"
   ]
  },
  {
   "cell_type": "code",
   "execution_count": 1243,
   "metadata": {},
   "outputs": [],
   "source": [
    "from scipy.optimize import minimize\n",
    "def minimize_vol2(target_return, er, cov):\n",
    "    \"\"\"\n",
    "    target_ret -> W\n",
    "    \"\"\"\n",
    "    n = er.shape[0]\n",
    "    init_guess = np.repeat(1/n, n)\n",
    "    bounds = ((0.0, 1.0),)*n\n",
    "    weights_sum_to_1 = {'type': 'eq',\n",
    "                        'fun': lambda weights: np.sum(weights) - 1\n",
    "    }\n",
    "    return_is_target = {'type': 'eq',\n",
    "                        'args': (er,),\n",
    "                        'fun': lambda weights, er: target_return - weights.T@er\n",
    "    }\n",
    "    \n",
    "    results = minimize(lambda weights, cov: weights.T@cov@weights, init_guess,\n",
    "                       args=(cov,), method=\"SLSQP\",\n",
    "                       options={\"disp\":False},\n",
    "                       constraints=(return_is_target, weights_sum_to_1),\n",
    "                       bounds=bounds\n",
    "                      )\n",
    "    return results.x\n",
    "    "
   ]
  },
  {
   "cell_type": "code",
   "execution_count": 1244,
   "metadata": {},
   "outputs": [],
   "source": [
    "def minimize_fodastico(rp, er, cov):\n",
    "    w = minimize_gen(rp, er, cov).reshape((4, 1))\n",
    "    w = minimize_ipm(rp, er, cov, w)\n",
    "    \n",
    "    return w"
   ]
  },
  {
   "cell_type": "code",
   "execution_count": 1239,
   "metadata": {},
   "outputs": [],
   "source": [
    "returns = np.linspace(min(e_r), max(e_r), 10)"
   ]
  },
  {
   "cell_type": "code",
   "execution_count": 1240,
   "metadata": {},
   "outputs": [],
   "source": [
    "carteiras_scipy = np.array([minimize_vol(r, e_r, cov).reshape((4, 1)) for r in returns])"
   ]
  },
  {
   "cell_type": "code",
   "execution_count": 1241,
   "metadata": {},
   "outputs": [],
   "source": [
    "index = np.argmin(e_r)\n",
    "w = np.zeros(e_r.shape[0])\n",
    "w[index] = 1\n",
    "carteiras_pi =[]\n",
    "\n",
    "for r in returns:\n",
    "    carteiras_pi.append(w)\n",
    "    w = minimize_gen(r, e_r, cov, w_anterior= w)\n"
   ]
  },
  {
   "cell_type": "code",
   "execution_count": 1246,
   "metadata": {
    "scrolled": false
   },
   "outputs": [
    {
     "ename": "NameError",
     "evalue": "name 'minimize_aleatorio' is not defined",
     "output_type": "error",
     "traceback": [
      "\u001b[1;31m---------------------------------------------------------------------------\u001b[0m",
      "\u001b[1;31mNameError\u001b[0m                                 Traceback (most recent call last)",
      "\u001b[1;32m<ipython-input-1246-06139a0da152>\u001b[0m in \u001b[0;36m<module>\u001b[1;34m\u001b[0m\n\u001b[0;32m      7\u001b[0m \u001b[1;33m\u001b[0m\u001b[0m\n\u001b[0;32m      8\u001b[0m \u001b[0mreturns\u001b[0m \u001b[1;33m=\u001b[0m \u001b[0mnp\u001b[0m\u001b[1;33m.\u001b[0m\u001b[0mlinspace\u001b[0m\u001b[1;33m(\u001b[0m\u001b[0mmin\u001b[0m\u001b[1;33m(\u001b[0m\u001b[0me_r\u001b[0m\u001b[1;33m)\u001b[0m\u001b[1;33m,\u001b[0m \u001b[0mmax\u001b[0m\u001b[1;33m(\u001b[0m\u001b[0me_r\u001b[0m\u001b[1;33m)\u001b[0m\u001b[1;33m,\u001b[0m \u001b[1;36m10\u001b[0m\u001b[1;33m)\u001b[0m\u001b[1;33m\u001b[0m\u001b[1;33m\u001b[0m\u001b[0m\n\u001b[1;32m----> 9\u001b[1;33m \u001b[0mcarteiras_pi\u001b[0m \u001b[1;33m=\u001b[0m \u001b[0mnp\u001b[0m\u001b[1;33m.\u001b[0m\u001b[0marray\u001b[0m\u001b[1;33m(\u001b[0m\u001b[1;33m[\u001b[0m\u001b[0mnp\u001b[0m\u001b[1;33m.\u001b[0m\u001b[0mround\u001b[0m\u001b[1;33m(\u001b[0m\u001b[0mminimize_aleatorio\u001b[0m\u001b[1;33m(\u001b[0m\u001b[0mr\u001b[0m\u001b[1;33m,\u001b[0m \u001b[0me_r\u001b[0m\u001b[1;33m,\u001b[0m \u001b[0mcov\u001b[0m\u001b[1;33m)\u001b[0m\u001b[1;33m,\u001b[0m \u001b[1;36m2\u001b[0m\u001b[1;33m)\u001b[0m \u001b[1;32mfor\u001b[0m \u001b[0mr\u001b[0m \u001b[1;32min\u001b[0m \u001b[0mreturns\u001b[0m\u001b[1;33m]\u001b[0m\u001b[1;33m)\u001b[0m\u001b[1;33m\u001b[0m\u001b[1;33m\u001b[0m\u001b[0m\n\u001b[0m\u001b[0;32m     10\u001b[0m \u001b[0mcarteiras_scipy\u001b[0m \u001b[1;33m=\u001b[0m \u001b[0mnp\u001b[0m\u001b[1;33m.\u001b[0m\u001b[0marray\u001b[0m\u001b[1;33m(\u001b[0m\u001b[1;33m[\u001b[0m\u001b[0mminimize_vol\u001b[0m\u001b[1;33m(\u001b[0m\u001b[0mr\u001b[0m\u001b[1;33m,\u001b[0m \u001b[0me_r\u001b[0m\u001b[1;33m,\u001b[0m \u001b[0mcov\u001b[0m\u001b[1;33m)\u001b[0m\u001b[1;33m.\u001b[0m\u001b[0mreshape\u001b[0m\u001b[1;33m(\u001b[0m\u001b[1;33m(\u001b[0m\u001b[1;36m2\u001b[0m\u001b[1;33m,\u001b[0m \u001b[1;36m1\u001b[0m\u001b[1;33m)\u001b[0m\u001b[1;33m)\u001b[0m \u001b[1;32mfor\u001b[0m \u001b[0mr\u001b[0m \u001b[1;32min\u001b[0m \u001b[0mreturns\u001b[0m\u001b[1;33m]\u001b[0m\u001b[1;33m)\u001b[0m\u001b[1;33m\u001b[0m\u001b[1;33m\u001b[0m\u001b[0m\n\u001b[0;32m     11\u001b[0m \u001b[1;33m\u001b[0m\u001b[0m\n",
      "\u001b[1;32m<ipython-input-1246-06139a0da152>\u001b[0m in \u001b[0;36m<listcomp>\u001b[1;34m(.0)\u001b[0m\n\u001b[0;32m      7\u001b[0m \u001b[1;33m\u001b[0m\u001b[0m\n\u001b[0;32m      8\u001b[0m \u001b[0mreturns\u001b[0m \u001b[1;33m=\u001b[0m \u001b[0mnp\u001b[0m\u001b[1;33m.\u001b[0m\u001b[0mlinspace\u001b[0m\u001b[1;33m(\u001b[0m\u001b[0mmin\u001b[0m\u001b[1;33m(\u001b[0m\u001b[0me_r\u001b[0m\u001b[1;33m)\u001b[0m\u001b[1;33m,\u001b[0m \u001b[0mmax\u001b[0m\u001b[1;33m(\u001b[0m\u001b[0me_r\u001b[0m\u001b[1;33m)\u001b[0m\u001b[1;33m,\u001b[0m \u001b[1;36m10\u001b[0m\u001b[1;33m)\u001b[0m\u001b[1;33m\u001b[0m\u001b[1;33m\u001b[0m\u001b[0m\n\u001b[1;32m----> 9\u001b[1;33m \u001b[0mcarteiras_pi\u001b[0m \u001b[1;33m=\u001b[0m \u001b[0mnp\u001b[0m\u001b[1;33m.\u001b[0m\u001b[0marray\u001b[0m\u001b[1;33m(\u001b[0m\u001b[1;33m[\u001b[0m\u001b[0mnp\u001b[0m\u001b[1;33m.\u001b[0m\u001b[0mround\u001b[0m\u001b[1;33m(\u001b[0m\u001b[0mminimize_aleatorio\u001b[0m\u001b[1;33m(\u001b[0m\u001b[0mr\u001b[0m\u001b[1;33m,\u001b[0m \u001b[0me_r\u001b[0m\u001b[1;33m,\u001b[0m \u001b[0mcov\u001b[0m\u001b[1;33m)\u001b[0m\u001b[1;33m,\u001b[0m \u001b[1;36m2\u001b[0m\u001b[1;33m)\u001b[0m \u001b[1;32mfor\u001b[0m \u001b[0mr\u001b[0m \u001b[1;32min\u001b[0m \u001b[0mreturns\u001b[0m\u001b[1;33m]\u001b[0m\u001b[1;33m)\u001b[0m\u001b[1;33m\u001b[0m\u001b[1;33m\u001b[0m\u001b[0m\n\u001b[0m\u001b[0;32m     10\u001b[0m \u001b[0mcarteiras_scipy\u001b[0m \u001b[1;33m=\u001b[0m \u001b[0mnp\u001b[0m\u001b[1;33m.\u001b[0m\u001b[0marray\u001b[0m\u001b[1;33m(\u001b[0m\u001b[1;33m[\u001b[0m\u001b[0mminimize_vol\u001b[0m\u001b[1;33m(\u001b[0m\u001b[0mr\u001b[0m\u001b[1;33m,\u001b[0m \u001b[0me_r\u001b[0m\u001b[1;33m,\u001b[0m \u001b[0mcov\u001b[0m\u001b[1;33m)\u001b[0m\u001b[1;33m.\u001b[0m\u001b[0mreshape\u001b[0m\u001b[1;33m(\u001b[0m\u001b[1;33m(\u001b[0m\u001b[1;36m2\u001b[0m\u001b[1;33m,\u001b[0m \u001b[1;36m1\u001b[0m\u001b[1;33m)\u001b[0m\u001b[1;33m)\u001b[0m \u001b[1;32mfor\u001b[0m \u001b[0mr\u001b[0m \u001b[1;32min\u001b[0m \u001b[0mreturns\u001b[0m\u001b[1;33m]\u001b[0m\u001b[1;33m)\u001b[0m\u001b[1;33m\u001b[0m\u001b[1;33m\u001b[0m\u001b[0m\n\u001b[0;32m     11\u001b[0m \u001b[1;33m\u001b[0m\u001b[0m\n",
      "\u001b[1;31mNameError\u001b[0m: name 'minimize_aleatorio' is not defined"
     ]
    }
   ],
   "source": [
    "dados = pd.read_csv(\"dados_ajustados.csv\", decimal= \",\", delimiter =\";\")\n",
    "dados = dados[[\"SPXI\", \"IBOV\"]]\n",
    "retornos = dados.pct_change().dropna()\n",
    "cov = np.array(retornos.cov())\n",
    "e_r = np.array(retornos.mean()).reshape(2, 1)\n",
    "\n",
    "\n",
    "returns = np.linspace(min(e_r), max(e_r), 10)\n",
    "carteiras_pi = np.array([np.round(minimize_aleatorio(r, e_r, cov), 2) for r in returns])\n",
    "carteiras_scipy = np.array([minimize_vol(r, e_r, cov).reshape((2, 1)) for r in returns])\n",
    "\n",
    "vol1 = [float(np.sqrt(w.T@cov@w)) for w in carteiras_pi]\n",
    "dic1 = {\"Vol\": vol1, \"r\": returns.reshape(returns.shape[0])}\n",
    "df1 = pd.DataFrame(dic1)\n",
    "ax = df1.plot(x=\"Vol\", y=\"r\", marker = \"x\", color=\"goldenrod\", figsize=(12,6))\n",
    "\n",
    "vol2 = [float(np.sqrt(w.T@cov@w)) for w in carteiras_scipy]\n",
    "dic2 = {\"Vol\": vol2, \"r\": returns.reshape(returns.shape[0])}\n",
    "df2 = pd.DataFrame(dic2)\n",
    "df2.plot(x=\"Vol\", y=\"r\", marker = \"x\", color=\"red\", ax = ax)"
   ]
  },
  {
   "cell_type": "code",
   "execution_count": 1228,
   "metadata": {},
   "outputs": [
    {
     "data": {
      "text/html": [
       "<div>\n",
       "<style scoped>\n",
       "    .dataframe tbody tr th:only-of-type {\n",
       "        vertical-align: middle;\n",
       "    }\n",
       "\n",
       "    .dataframe tbody tr th {\n",
       "        vertical-align: top;\n",
       "    }\n",
       "\n",
       "    .dataframe thead th {\n",
       "        text-align: right;\n",
       "    }\n",
       "</style>\n",
       "<table border=\"1\" class=\"dataframe\">\n",
       "  <thead>\n",
       "    <tr style=\"text-align: right;\">\n",
       "      <th></th>\n",
       "      <th>Vol</th>\n",
       "      <th>r</th>\n",
       "    </tr>\n",
       "  </thead>\n",
       "  <tbody>\n",
       "    <tr>\n",
       "      <th>0</th>\n",
       "      <td>0.018739</td>\n",
       "      <td>0.000451</td>\n",
       "    </tr>\n",
       "    <tr>\n",
       "      <th>1</th>\n",
       "      <td>0.018734</td>\n",
       "      <td>0.000451</td>\n",
       "    </tr>\n",
       "    <tr>\n",
       "      <th>2</th>\n",
       "      <td>0.018729</td>\n",
       "      <td>0.000451</td>\n",
       "    </tr>\n",
       "    <tr>\n",
       "      <th>3</th>\n",
       "      <td>0.018729</td>\n",
       "      <td>0.000452</td>\n",
       "    </tr>\n",
       "    <tr>\n",
       "      <th>4</th>\n",
       "      <td>0.018732</td>\n",
       "      <td>0.000452</td>\n",
       "    </tr>\n",
       "    <tr>\n",
       "      <th>5</th>\n",
       "      <td>0.018701</td>\n",
       "      <td>0.000452</td>\n",
       "    </tr>\n",
       "    <tr>\n",
       "      <th>6</th>\n",
       "      <td>0.018729</td>\n",
       "      <td>0.000451</td>\n",
       "    </tr>\n",
       "    <tr>\n",
       "      <th>7</th>\n",
       "      <td>0.018738</td>\n",
       "      <td>0.000451</td>\n",
       "    </tr>\n",
       "    <tr>\n",
       "      <th>8</th>\n",
       "      <td>0.018727</td>\n",
       "      <td>0.000452</td>\n",
       "    </tr>\n",
       "    <tr>\n",
       "      <th>9</th>\n",
       "      <td>0.018726</td>\n",
       "      <td>0.000452</td>\n",
       "    </tr>\n",
       "  </tbody>\n",
       "</table>\n",
       "</div>"
      ],
      "text/plain": [
       "        Vol         r\n",
       "0  0.018739  0.000451\n",
       "1  0.018734  0.000451\n",
       "2  0.018729  0.000451\n",
       "3  0.018729  0.000452\n",
       "4  0.018732  0.000452\n",
       "5  0.018701  0.000452\n",
       "6  0.018729  0.000451\n",
       "7  0.018738  0.000451\n",
       "8  0.018727  0.000452\n",
       "9  0.018726  0.000452"
      ]
     },
     "execution_count": 1228,
     "metadata": {},
     "output_type": "execute_result"
    }
   ],
   "source": [
    "df1"
   ]
  },
  {
   "cell_type": "code",
   "execution_count": 1165,
   "metadata": {},
   "outputs": [
    {
     "data": {
      "text/plain": [
       "array([[1.78187046e-01, 3.02027236e-01, 5.05124184e-01, 1.46615334e-02],\n",
       "       [2.45837362e-01, 3.01736667e-01, 3.94033456e-01, 5.83925144e-02],\n",
       "       [4.11222733e-01, 3.42899048e-02, 4.18120151e-01, 1.36367211e-01],\n",
       "       [2.98430585e-01, 3.10613764e-05, 4.29925394e-01, 2.71612959e-01],\n",
       "       [2.86757178e-01, 2.03313224e-01, 3.14602060e-01, 1.95327538e-01],\n",
       "       [1.21233236e-01, 7.00031079e-03, 5.00787087e-01, 3.70979366e-01],\n",
       "       [2.03609937e-01, 7.89116585e-02, 3.50598550e-01, 3.66879854e-01],\n",
       "       [2.07758594e-01, 6.45535194e-02, 3.45044894e-01, 3.82642993e-01],\n",
       "       [9.94357869e-02, 3.95888126e-02, 3.71127244e-01, 4.89848157e-01],\n",
       "       [2.07212919e-02, 1.16930752e-01, 2.09909114e-01, 6.52438842e-01]])"
      ]
     },
     "execution_count": 1165,
     "metadata": {},
     "output_type": "execute_result"
    }
   ],
   "source": [
    "carteiras_pi"
   ]
  },
  {
   "cell_type": "code",
   "execution_count": 1166,
   "metadata": {},
   "outputs": [
    {
     "data": {
      "text/plain": [
       "array([[[9.44949918e-08],\n",
       "        [0.00000000e+00],\n",
       "        [9.99999906e-01],\n",
       "        [1.27675648e-15]],\n",
       "\n",
       "       [[3.18449870e-01],\n",
       "        [2.88027412e-01],\n",
       "        [3.19303929e-01],\n",
       "        [7.42187896e-02]],\n",
       "\n",
       "       [[2.73959078e-01],\n",
       "        [2.63068710e-01],\n",
       "        [2.74401807e-01],\n",
       "        [1.88570404e-01]],\n",
       "\n",
       "       [[2.29468287e-01],\n",
       "        [2.38110009e-01],\n",
       "        [2.29499685e-01],\n",
       "        [3.02922019e-01]],\n",
       "\n",
       "       [[1.84977495e-01],\n",
       "        [2.13151308e-01],\n",
       "        [1.84597563e-01],\n",
       "        [4.17273633e-01]],\n",
       "\n",
       "       [[1.40486704e-01],\n",
       "        [1.88192607e-01],\n",
       "        [1.39695442e-01],\n",
       "        [5.31625248e-01]],\n",
       "\n",
       "       [[9.59959125e-02],\n",
       "        [1.63233905e-01],\n",
       "        [9.47933196e-02],\n",
       "        [6.45976862e-01]],\n",
       "\n",
       "       [[5.15051211e-02],\n",
       "        [1.38275204e-01],\n",
       "        [4.98911977e-02],\n",
       "        [7.60328477e-01]],\n",
       "\n",
       "       [[7.01432528e-03],\n",
       "        [1.13316505e-01],\n",
       "        [4.98907780e-03],\n",
       "        [8.74680092e-01]],\n",
       "\n",
       "       [[0.00000000e+00],\n",
       "        [2.44784970e-10],\n",
       "        [1.38777878e-16],\n",
       "        [1.00000000e+00]]])"
      ]
     },
     "execution_count": 1166,
     "metadata": {},
     "output_type": "execute_result"
    }
   ],
   "source": [
    "carteiras_scipy"
   ]
  },
  {
   "cell_type": "code",
   "execution_count": null,
   "metadata": {},
   "outputs": [],
   "source": []
  }
 ],
 "metadata": {
  "kernelspec": {
   "display_name": "Python 3",
   "language": "python",
   "name": "python3"
  },
  "language_info": {
   "codemirror_mode": {
    "name": "ipython",
    "version": 3
   },
   "file_extension": ".py",
   "mimetype": "text/x-python",
   "name": "python",
   "nbconvert_exporter": "python",
   "pygments_lexer": "ipython3",
   "version": "3.8.5"
  }
 },
 "nbformat": 4,
 "nbformat_minor": 4
}
