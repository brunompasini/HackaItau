{
 "cells": [
  {
   "cell_type": "code",
   "execution_count": 514,
   "metadata": {},
   "outputs": [],
   "source": [
    "import numpy as np \n",
    "import pandas as pd\n",
    "np.random.seed(42)"
   ]
  },
  {
   "cell_type": "code",
   "execution_count": 724,
   "metadata": {},
   "outputs": [],
   "source": [
    "dados = pd.read_csv(\"dados_ajustados.csv\", decimal= \",\", delimiter =\";\")\n",
    "dados = dados[[\"SPXI\", \"IBOV\"]]\n",
    "retornos = dados.pct_change().dropna()\n",
    "cov = np.array(retornos.cov())\n",
    "e_r = np.array(retornos.mean()).reshape(2, 1)\n",
    "rp = 0.00178\n"
   ]
  },
  {
   "cell_type": "code",
   "execution_count": 610,
   "metadata": {},
   "outputs": [],
   "source": [
    "def chromossome(n):\n",
    "    x = np.random.rand(n)\n",
    "    return x/sum(x)"
   ]
  },
  {
   "cell_type": "code",
   "execution_count": 611,
   "metadata": {},
   "outputs": [
    {
     "data": {
      "text/plain": [
       "array([0.15647897, 0.84352103])"
      ]
     },
     "execution_count": 611,
     "metadata": {},
     "output_type": "execute_result"
    }
   ],
   "source": [
    "w = chromossome(2)\n",
    "w"
   ]
  },
  {
   "cell_type": "code",
   "execution_count": 703,
   "metadata": {},
   "outputs": [],
   "source": [
    "def fitness_function(w, e_r=e_r, cov=cov, rp=rp, alpha = 10, beta = 100):\n",
    "    w = w.reshape(2, 1)\n",
    "    return (np.sqrt(w.T@cov@w) + beta*abs(w.T@e_r -rp))[0][0]"
   ]
  },
  {
   "cell_type": "code",
   "execution_count": 709,
   "metadata": {},
   "outputs": [],
   "source": [
    "def new_population(population, crossover = Heuristic_crossover):\n",
    "    new_population = []\n",
    "    intermediate_population=[]\n",
    "    \n",
    "    elite = select_elite(population)\n",
    "    \n",
    "    for candidate in population:\n",
    "        c1, c2 = population[np.random.randint(0, len(population))][:], population[np.random.randint(0, len(population))][:]\n",
    "        ic = candidate +0.1*(c1-c2)\n",
    "        \n",
    "        for j in range(len(candidate)):\n",
    "            ic[j] = np.random.choice([elite[j], ic[j]], size = 1, p=[0.8, 0.2])\n",
    "        \n",
    "        ic = np.where(a > 0, a, 0)\n",
    "        \n",
    "        if fitness_function(ic) <= fitness_function(candidate):\n",
    "            new_population.append(ic)\n",
    "        else: \n",
    "            new_population.append(candidate)\n",
    "    \n",
    "    return new_population"
   ]
  },
  {
   "cell_type": "code",
   "execution_count": 731,
   "metadata": {},
   "outputs": [],
   "source": [
    "population_size = 100\n",
    "n = 2\n",
    "population = np.array([chromossome(n) for _ in range(population_size)])\n",
    "\n",
    "\n",
    "for i in range(1000):\n",
    "    new_population = []\n",
    "    elite = select_elite(population)\n",
    "    \n",
    "    for candidate in population:\n",
    "        c1, c2 = population[np.random.randint(0, len(population))][:], population[np.random.randint(0, len(population))][:]\n",
    "        ic = candidate +0.001*(c1-c2)\n",
    "        \n",
    "        for j in range(len(candidate)):\n",
    "            ic[j] = np.random.choice([elite[j], ic[j]], size = 1, p=[0.8, 0.2])\n",
    "        ic = np.where(ic>=0, ic, 0)\n",
    "        \n",
    "        if fitness_function(ic) <= fitness_function(candidate):\n",
    "            new_population.append(ic)\n",
    "        else: \n",
    "            new_population.append(candidate)\n",
    "    \n",
    "        population = np.array([i/sum(i) for i in new_population])"
   ]
  },
  {
   "cell_type": "code",
   "execution_count": 739,
   "metadata": {},
   "outputs": [
    {
     "name": "stdout",
     "output_type": "stream",
     "text": [
      "0.016091162026566123\n",
      "[0.97456287 0.02543713]\n"
     ]
    }
   ],
   "source": [
    "print(fitness_function(select_elite(population)))\n",
    "print(select_elite(population))"
   ]
  },
  {
   "cell_type": "code",
   "execution_count": 728,
   "metadata": {},
   "outputs": [],
   "source": [
    "from scipy.optimize import minimize\n",
    "\n",
    "def minimize_vol(target_return, er, cov):\n",
    "    \"\"\"\n",
    "    target_ret -> W\n",
    "    \"\"\"\n",
    "    n = er.shape[0]\n",
    "    init_guess = np.repeat(1/n, n)\n",
    "    bounds = ((0.0, 1.0),)*n\n",
    "    weights_sum_to_1 = {'type': 'eq',\n",
    "                        'fun': lambda weights: np.sum(weights) - 1\n",
    "    }\n",
    "    return_is_target = {'type': 'eq',\n",
    "                        'args': (er,),\n",
    "                        'fun' : lambda weights, er: target_return - weights.T@er\n",
    "    }\n",
    "    \n",
    "    results = minimize(lambda weights, cov: weights.T@cov@weights, init_guess,\n",
    "                       args=(cov,), method=\"SLSQP\",\n",
    "                       options={\"disp\":False},\n",
    "                       constraints=(return_is_target, weights_sum_to_1),\n",
    "                       bounds=bounds\n",
    "                  )\n",
    "    return results.x"
   ]
  },
  {
   "cell_type": "code",
   "execution_count": 735,
   "metadata": {},
   "outputs": [
    {
     "data": {
      "text/plain": [
       "array([0.66096388, 0.33903612])"
      ]
     },
     "execution_count": 735,
     "metadata": {},
     "output_type": "execute_result"
    }
   ],
   "source": [
    "a = minimize_vol(rp, e_r, cov)\n",
    "a"
   ]
  },
  {
   "cell_type": "code",
   "execution_count": 717,
   "metadata": {},
   "outputs": [
    {
     "data": {
      "text/plain": [
       "array([[0.00202945],\n",
       "       [0.00129369]])"
      ]
     },
     "execution_count": 717,
     "metadata": {},
     "output_type": "execute_result"
    }
   ],
   "source": [
    "e_r"
   ]
  },
  {
   "cell_type": "code",
   "execution_count": null,
   "metadata": {},
   "outputs": [],
   "source": []
  },
  {
   "cell_type": "code",
   "execution_count": null,
   "metadata": {},
   "outputs": [],
   "source": []
  },
  {
   "cell_type": "code",
   "execution_count": null,
   "metadata": {},
   "outputs": [],
   "source": []
  }
 ],
 "metadata": {
  "kernelspec": {
   "display_name": "Python 3",
   "language": "python",
   "name": "python3"
  },
  "language_info": {
   "codemirror_mode": {
    "name": "ipython",
    "version": 3
   },
   "file_extension": ".py",
   "mimetype": "text/x-python",
   "name": "python",
   "nbconvert_exporter": "python",
   "pygments_lexer": "ipython3",
   "version": "3.8.5"
  }
 },
 "nbformat": 4,
 "nbformat_minor": 4
}
