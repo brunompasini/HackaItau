{
 "cells": [
  {
   "cell_type": "code",
   "execution_count": 1247,
   "metadata": {},
   "outputs": [],
   "source": [
    "import numpy as np \n",
    "import pandas as pd\n",
    "np.random.seed(42)"
   ]
  },
  {
   "cell_type": "code",
   "execution_count": 1248,
   "metadata": {},
   "outputs": [],
   "source": [
    "dados = pd.read_csv(\"dadoss.csv\", delimiter=\";\", decimal=\",\")\n",
    "dados = dados[[\"SAPR4\", \"ELET6\",\"VIVT3\", \"MGLU3\"]]\n",
    "retornos = dados.pct_change().dropna()\n",
    "cov = np.array(retornos.cov())\n",
    "e_r = np.array(retornos.mean()).reshape(4, 1)"
   ]
  },
  {
   "cell_type": "code",
   "execution_count": null,
   "metadata": {},
   "outputs": [],
   "source": [
    "def timing(func): \n",
    "    import time      \n",
    "    def wrapper(*args, **kwargs):          \n",
    "        t = time.clock()          \n",
    "        res = func(*args, **kwargs)          \n",
    "        print(func.__name__, time.clock()-t)         \n",
    "        return res      \n",
    "    return wrapper "
   ]
  },
  {
   "cell_type": "markdown",
   "metadata": {},
   "source": [
    "### Tentativa de Minimizar a carteira usando algoritmos Genéticos. Não funcionou bem."
   ]
  },
  {
   "cell_type": "code",
   "execution_count": 1270,
   "metadata": {},
   "outputs": [],
   "source": [
    "#@timing\n",
    "def minimize_gen(rp, er, cov):\n",
    "    n = er.shape[0]\n",
    "    \n",
    "    def chromossome(n):\n",
    "        x = np.random.rand(n)\n",
    "        return x/sum(x)\n",
    "    \n",
    "    def fitness_function(w, e_r=e_r, cov=cov, rp=rp, alpha = 10, beta = 1000):\n",
    "        w = w.reshape(n, 1)\n",
    "        return (w.T@cov@w + beta*(w.T@e_r -rp)**2)[0][0]\n",
    "    \n",
    "    def select_elite(population):\n",
    "        i = np.argmin([fitness_function(_) for _ in population])\n",
    "        return population[i]\n",
    "    \n",
    "    def new_population(population):\n",
    "        new_population = []\n",
    "        intermediate_population=[]\n",
    "    \n",
    "        elite = select_elite(population)\n",
    "    \n",
    "        for candidate in population:\n",
    "            c1, c2 = population[np.random.randint(0, len(population))][:], population[np.random.randint(0, len(population))][:]\n",
    "            ic = candidate +1*(c1-c2)\n",
    "        \n",
    "        for j in range(len(candidate)):\n",
    "            ic[j] = np.random.choice([elite[j], ic[j]], size = 1, p=[0.9, 0.1])\n",
    "            \n",
    "        ic = np.where(ic>=0, ic, 0)\n",
    "        \n",
    "        ic = ic/sum(ic)\n",
    "        \n",
    "        if fitness_function(ic) <= fitness_function(candidate):\n",
    "            new_population.append(ic)\n",
    "        else: \n",
    "            new_population.append(candidate)\n",
    "    \n",
    "        return new_population\n",
    "    \n",
    "    \n",
    "    population_size = 100\n",
    "    population = [chromossome(_) for _ in range(100)]\n",
    "    for i in range(50):\n",
    "        population = new_population(population)\n",
    "\n",
    "    return(select_elite(population).reshape(n))"
   ]
  }
 ],
 "metadata": {
  "kernelspec": {
   "display_name": "Python 3",
   "language": "python",
   "name": "python3"
  },
  "language_info": {
   "codemirror_mode": {
    "name": "ipython",
    "version": 3
   },
   "file_extension": ".py",
   "mimetype": "text/x-python",
   "name": "python",
   "nbconvert_exporter": "python",
   "pygments_lexer": "ipython3",
   "version": "3.8.5"
  }
 },
 "nbformat": 4,
 "nbformat_minor": 4
}
