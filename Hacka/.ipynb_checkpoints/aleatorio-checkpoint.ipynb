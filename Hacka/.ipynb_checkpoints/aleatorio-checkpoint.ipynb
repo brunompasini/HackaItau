{
 "cells": [
  {
   "cell_type": "code",
   "execution_count": 58,
   "metadata": {},
   "outputs": [],
   "source": [
    "import os\n",
    "os.chdir(\"modulo/\")\n",
    "\n",
    "import numpy as np \n",
    "import pandas as pd \n",
    "import matplotlib.pyplot as plt\n",
    "\n",
    "os.chdir(\"..\")\n",
    "\n",
    "dados = pd.read_csv(\"dados_ajustados.csv\", decimal= \",\", delimiter =\";\", index_col=\"Data\")\n",
    "retornos = dados.pct_change().dropna()\n",
    "cov = np.array(retornos.cov())\n",
    "e_r = np.array(retornos.mean()).reshape((retornos.shape[1], 1))"
   ]
  },
  {
   "cell_type": "code",
   "execution_count": 80,
   "metadata": {},
   "outputs": [],
   "source": [
    "class Markowitz:\n",
    "    def __init__(self, e_r, cov, sim=1000000):\n",
    "        self.points = []\n",
    "        n = e_r.shape[0]\n",
    "        self.carteiras = []\n",
    "        self.retornos = []\n",
    "        self.vols = []\n",
    "        \n",
    "        for i in range(sim):\n",
    "            carteira = (np.random.random(n))\n",
    "            carteira = carteira/sum(carteira)\n",
    "            self.carteiras.append(carteira)\n",
    "            self.retornos.append(float(carteira.T@e_r))\n",
    "            self.vols.append(float(np.sqrt(carteira.T@cov@carteira)))\n",
    "        \n",
    "        self.carteiras = np.array(self.carteiras)\n",
    "        self.retornos = np.array(self.retornos)\n",
    "        self.vols = np.array(self.vols)\n",
    "        \n",
    "    def minimize_vol(self, rp):\n",
    "        beg = np.min(self.vols)\n",
    "        end = np.max(self.vols)\n",
    "        \n",
    "        step = (end-beg)/100        \n",
    "        ef_x =[]\n",
    "        ef_y = []\n",
    "        for i in range(100):\n",
    "            print((self.vols>=beg+i*step))\n",
    "            x = (beg+i*step + beg+(i+1)*step)/2\n",
    "            try: \n",
    "                y = np.max(self.retornos[np.logical_and((self.vols>=beg+i*step), (self.vols<=beg+(i+1)*step))])\n",
    "                ef_x.append(x)\n",
    "                ef_y.append(y)\n",
    "            except ValueError: \n",
    "                pass\n",
    "        \n",
    "        return self.carteiras[self.retornos == e_y[i]]"
   ]
  },
  {
   "cell_type": "code",
   "execution_count": null,
   "metadata": {},
   "outputs": [],
   "source": [
    "a = Markowitz(e_r, cov)\n",
    "a.minimize_vol(0.002)"
   ]
  },
  {
   "cell_type": "code",
   "execution_count": 76,
   "metadata": {},
   "outputs": [
    {
     "data": {
      "text/plain": [
       "array([[ 0.00202945],\n",
       "       [ 0.00129369],\n",
       "       [ 0.00018317],\n",
       "       [-0.00010127]])"
      ]
     },
     "execution_count": 76,
     "metadata": {},
     "output_type": "execute_result"
    }
   ],
   "source": [
    "e_r"
   ]
  },
  {
   "cell_type": "code",
   "execution_count": 73,
   "metadata": {},
   "outputs": [
    {
     "data": {
      "text/plain": [
       "<matplotlib.collections.PathCollection at 0x23a03a9d580>"
      ]
     },
     "execution_count": 73,
     "metadata": {},
     "output_type": "execute_result"
    },
    {
     "data": {
      "image/png": "[encoded data removed]",
      "text/plain": [
       "<Figure size 432x288 with 1 Axes>"
      ]
     },
     "metadata": {
      "needs_background": "light"
     },
     "output_type": "display_data"
    }
   ],
   "source": [
    "from scipy.optimize import minimize\n",
    "\n",
    " \n",
    "\n",
    "def minimize_vol2(target_return, er, cov):\n",
    "    \"\"\"\n",
    "    target_ret -> W\n",
    "    \"\"\"\n",
    "    n = er.shape[0]\n",
    "    init_guess = np.repeat(1/n, n)\n",
    "    bounds = ((0.0, 1.0),)*n\n",
    "    weights_sum_to_1 = {'type': 'eq',\n",
    "                        'fun': lambda weights: np.sum(weights) - 1\n",
    "    }\n",
    "    return_is_target = {'type': 'eq',\n",
    "                        'args': (er,),\n",
    "                        'fun': lambda weights, er: target_return - weights.T@er\n",
    "    }\n",
    "    \n",
    "    results = minimize(lambda weights, cov: weights.T@cov@weights, init_guess,\n",
    "                       args=(cov,), method=\"SLSQP\",\n",
    "                       options={\"disp\":False},\n",
    "                       constraints=(return_is_target, weights_sum_to_1),\n",
    "                       bounds=bounds\n",
    "                      )\n",
    "    return results.x\n",
    "    \n",
    "    \n",
    "retornos = np.linspace(min(e_r), max(e_r), 100)\n",
    "\n",
    "carteiras_scipy = np.array([minimize_vol2(r, e_r, cov).reshape((4, 1)) for r in retornos])\n",
    "\n",
    "\n",
    "vol2 = [float(np.sqrt(w.T@cov@w)) for w in carteiras_scipy]\n",
    "dic2 = {\"Vol\": vol2, \"r\": retornos.reshape(retornos.shape[0])}\n",
    "df2 = pd.DataFrame(dic2)\n",
    "ax = df2.plot(x=\"Vol\", y=\"r\", marker = \"x\", color=\"red\")\n",
    "\n",
    "ax.scatter(x=ef_x, y=ef_y, marker=\"x\", alpha=1)"
   ]
  },
  {
   "cell_type": "code",
   "execution_count": null,
   "metadata": {},
   "outputs": [],
   "source": []
  }
 ],
 "metadata": {
  "kernelspec": {
   "display_name": "Python 3",
   "language": "python",
   "name": "python3"
  },
  "language_info": {
   "codemirror_mode": {
    "name": "ipython",
    "version": 3
   },
   "file_extension": ".py",
   "mimetype": "text/x-python",
   "name": "python",
   "nbconvert_exporter": "python",
   "pygments_lexer": "ipython3",
   "version": "3.8.5"
  }
 },
 "nbformat": 4,
 "nbformat_minor": 4
}
