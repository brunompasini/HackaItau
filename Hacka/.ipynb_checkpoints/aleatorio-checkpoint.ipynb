{
 "cells": [
  {
   "cell_type": "code",
   "execution_count": 3,
   "metadata": {},
   "outputs": [],
   "source": [
    "import pandas as pd\n",
    "import numpy as np \n"
   ]
  },
  {
   "cell_type": "code",
   "execution_count": 5,
   "metadata": {},
   "outputs": [],
   "source": [
    "dados = pd.read_csv(\"dadoss.csv\", delimiter=\";\", decimal=\",\")\n",
    "dados = dados[[\"SAPR4\", \"ELET6\",\"VIVT3\", \"MGLU3\"]]\n",
    "retornos = dados.pct_change().dropna()\n",
    "cov = np.array(retornos.cov())\n",
    "e_r = np.array(retornos.mean()).reshape(4, 1)"
   ]
  },
  {
   "cell_type": "code",
   "execution_count": 24,
   "metadata": {},
   "outputs": [
    {
     "data": {
      "text/plain": [
       "array([[0.00046108],\n",
       "       [0.00094095],\n",
       "       [0.00045098],\n",
       "       [0.00436355]])"
      ]
     },
     "execution_count": 24,
     "metadata": {},
     "output_type": "execute_result"
    }
   ],
   "source": [
    "e_r"
   ]
  },
  {
   "cell_type": "code",
   "execution_count": 78,
   "metadata": {},
   "outputs": [],
   "source": [
    "from scipy.optimize import minimize\n",
    "def minimize_vol2(target_return, er, cov):\n",
    "    \"\"\"\n",
    "    target_ret -> W\n",
    "    \"\"\"\n",
    "    n = er.shape[0]\n",
    "    init_guess = np.repeat(1/n, n)\n",
    "    bounds = ((0.0, 1.0),)*n\n",
    "    weights_sum_to_1 = {'type': 'eq',\n",
    "                        'fun': lambda weights: np.sum(weights) - 1\n",
    "    }\n",
    "    return_is_target = {'type': 'eq',\n",
    "                        'args': (er,),\n",
    "                        'fun': lambda weights, er: target_return - weights.T@er\n",
    "    }\n",
    "    \n",
    "    results = minimize(lambda weights, cov: weights.T@cov@weights, init_guess,\n",
    "                       args=(cov,), method=\"SLSQP\",\n",
    "                       options={\"disp\":False},\n",
    "                       constraints=(return_is_target, weights_sum_to_1),\n",
    "                       bounds=bounds\n",
    "                      )\n",
    "    return results.x"
   ]
  },
  {
   "cell_type": "code",
   "execution_count": 102,
   "metadata": {},
   "outputs": [],
   "source": [
    "import numpy as np \n",
    "\n",
    "def minimize_aleatorio(e_r, cov, rp, eps = 0.000001, sim = 10000000):\n",
    "    carteiras = []\n",
    "    n = e_r.shape[0]\n",
    "    for _ in range(sim):\n",
    "        carteira = (np.random.random(n))\n",
    "        carteira = carteira/sum(carteira)\n",
    "        carteiras.append((carteira).reshape((n,1)))\n",
    "    \n",
    "    retornos = np.array([carteira.T@e_r for carteira in carteiras])\n",
    "    \n",
    "    filtro = (abs(retornos - rp)<eps).reshape(sim)\n",
    "    \n",
    "    carteiras = np.array(carteiras)\n",
    "    \n",
    "    carteiras = carteiras[filtro]\n",
    "    \n",
    "    vol = [np.sqrt(carteira.T@cov@carteira) for carteira in carteiras]\n",
    "    \n",
    "    index = np.argmin(vol)\n",
    "    \n",
    "    return carteiras[index]"
   ]
  },
  {
   "cell_type": "code",
   "execution_count": null,
   "metadata": {},
   "outputs": [],
   "source": [
    "dados = pd.read_csv(\"dados_ajustados.csv\", decimal= \",\", delimiter =\";\")\n",
    "dados = dados[[\"SPXI\", \"IBOV\"]]\n",
    "retornos = dados.pct_change().dropna()\n",
    "cov = np.array(retornos.cov())\n",
    "e_r = np.array(retornos.mean()).reshape(2, 1)\n",
    "\n",
    "\n",
    "returns = np.linspace(min(e_r), max(e_r), 10)\n",
    "carteiras_pi = np.array([minimize_aleatorio(e_r, cov, r) for r in returns])\n",
    "carteiras_scipy = np.array([minimize_vol(r, e_r, cov).reshape((2, 1)) for r in returns])\n",
    "\n",
    "vol1 = [float(np.sqrt(w.T@cov@w)) for w in carteiras_pi]\n",
    "retornos = [float(w.T@e_r) for w in carteiras_pi]\n",
    "dic1 = {\"Vol\": vol1, \"r\": retornos}\n",
    "df1 = pd.DataFrame(dic1)\n",
    "ax = df1.plot(x=\"Vol\", y=\"r\", marker = \"x\", color=\"goldenrod\", figsize=(12,6), kind=\"scatter\")\n",
    "\n",
    "vol2 = [float(np.sqrt(w.T@cov@w)) for w in carteiras_scipy]\n",
    "dic2 = {\"Vol\": vol2, \"r\": returns.reshape(returns.shape[0])}\n",
    "df2 = pd.DataFrame(dic2)\n",
    "df2.plot(x=\"Vol\", y=\"r\", marker = \"*\", color=\"red\", ax = ax, kind=\"scatter\")"
   ]
  },
  {
   "cell_type": "code",
   "execution_count": 100,
   "metadata": {
    "scrolled": false
   },
   "outputs": [
    {
     "data": {
      "text/plain": [
       "array([[[0.01359072],\n",
       "        [0.98640928]],\n",
       "\n",
       "       [[0.12470141],\n",
       "        [0.87529859]],\n",
       "\n",
       "       [[0.23581285],\n",
       "        [0.76418715]],\n",
       "\n",
       "       [[0.34692435],\n",
       "        [0.65307565]],\n",
       "\n",
       "       [[0.45803555],\n",
       "        [0.54196445]],\n",
       "\n",
       "       [[0.54196454],\n",
       "        [0.45803546]],\n",
       "\n",
       "       [[0.65307635],\n",
       "        [0.34692365]],\n",
       "\n",
       "       [[0.7641873 ],\n",
       "        [0.2358127 ]],\n",
       "\n",
       "       [[0.87529777],\n",
       "        [0.12470223]],\n",
       "\n",
       "       [[0.98640959],\n",
       "        [0.01359041]]])"
      ]
     },
     "execution_count": 100,
     "metadata": {},
     "output_type": "execute_result"
    }
   ],
   "source": [
    "carteiras_pi"
   ]
  },
  {
   "cell_type": "code",
   "execution_count": 101,
   "metadata": {},
   "outputs": [
    {
     "data": {
      "text/plain": [
       "array([[[3.88793386e-09],\n",
       "        [9.99999996e-01]],\n",
       "\n",
       "       [[1.11111114e-01],\n",
       "        [8.88888886e-01]],\n",
       "\n",
       "       [[2.22222224e-01],\n",
       "        [7.77777776e-01]],\n",
       "\n",
       "       [[3.33333335e-01],\n",
       "        [6.66666665e-01]],\n",
       "\n",
       "       [[4.44444445e-01],\n",
       "        [5.55555555e-01]],\n",
       "\n",
       "       [[5.55555555e-01],\n",
       "        [4.44444445e-01]],\n",
       "\n",
       "       [[6.66666665e-01],\n",
       "        [3.33333335e-01]],\n",
       "\n",
       "       [[7.77777776e-01],\n",
       "        [2.22222224e-01]],\n",
       "\n",
       "       [[8.88888886e-01],\n",
       "        [1.11111114e-01]],\n",
       "\n",
       "       [[9.99999996e-01],\n",
       "        [3.88793370e-09]]])"
      ]
     },
     "execution_count": 101,
     "metadata": {},
     "output_type": "execute_result"
    }
   ],
   "source": [
    "carteiras_scipy"
   ]
  }
 ],
 "metadata": {
  "kernelspec": {
   "display_name": "Python 3",
   "language": "python",
   "name": "python3"
  },
  "language_info": {
   "codemirror_mode": {
    "name": "ipython",
    "version": 3
   },
   "file_extension": ".py",
   "mimetype": "text/x-python",
   "name": "python",
   "nbconvert_exporter": "python",
   "pygments_lexer": "ipython3",
   "version": "3.8.5"
  }
 },
 "nbformat": 4,
 "nbformat_minor": 4
}
