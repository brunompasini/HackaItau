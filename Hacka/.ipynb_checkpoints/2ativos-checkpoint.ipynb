{
 "cells": [
  {
   "cell_type": "code",
   "execution_count": 286,
   "metadata": {},
   "outputs": [],
   "source": [
    "import numpy as np "
   ]
  },
  {
   "cell_type": "code",
   "execution_count": 319,
   "metadata": {},
   "outputs": [
    {
     "data": {
      "text/plain": [
       "array([[0.79998705],\n",
       "       [0.20001295]])"
      ]
     },
     "execution_count": 319,
     "metadata": {},
     "output_type": "execute_result"
    }
   ],
   "source": [
    "Sigma = np.array([[1, 1/2],[1/2, 1]])\n",
    "er = np.array([[0.1], [0.2]])\n",
    "\n",
    "w = np.array([[0.5],[0.5]])\n",
    "gradc = np.array([[1, 0.1],[1, 0.2]])\n",
    "l = np.array([[0.],[0.]])\n",
    "er = np.array([[0.1], [0.2]])\n",
    "rp =0.12\n",
    "\n",
    "#Initial Guess\n",
    "w = np.array([[0.5],[0.5]]) \n",
    "l = np.array([[0.],[0.]])\n",
    "\n",
    "def generate_b(Sigma, gradc, er, l, w, rp):\n",
    "    a = 2*Sigma@w + gradc@l\n",
    "    b = np.ones((1,2))@w - 1\n",
    "    c = er.T@w - rp\n",
    "    return -1*np.vstack((a, b, c))\n",
    "\n",
    "def generate_A(Sigma,gradc):\n",
    "    a = np.hstack([2*Sigma, gradc])\n",
    "    b = np.hstack([gradc.T, np.zeros((2,2))])\n",
    "    return np.vstack((a, b))\n",
    "\n",
    "for i in range(1000):\n",
    "    A = generate_A(Sigma, gradc)\n",
    "    b = generate_b(Sigma, gradc, er, l, w, rp)\n",
    "    \n",
    "    dx = np.linalg.inv(A)@b\n",
    "    dw, dl = np.vsplit(dx, 2)\n",
    "    w = w + 0.01*dw\n",
    "    l = l + 0.01*dl\n",
    "w"
   ]
  },
  {
   "cell_type": "code",
   "execution_count": 324,
   "metadata": {},
   "outputs": [],
   "source": [
    "def optimal_weights(rp, er, cov):\n",
    "    n = er.shape[0]\n",
    "    w = np.ones((n,1))*1/n\n",
    "    gradc = np.array([[1, 0.1],[1, 0.2]])\n",
    "    l = np.array([[0.],[0.]])\n",
    "    A = generate_A(Sigma, gradc)\n",
    "    \n",
    "    for i in range(1000):\n",
    "        b = generate_b(Sigma, gradc, er, l, w, rp)\n",
    "        dx = np.linalg.inv(A)@b\n",
    "        dw, dl = np.vsplit(dx, 2)\n",
    "        w = w + 0.01*dw\n",
    "        l = l + 0.01*dl\n",
    "        \n",
    "    return w\n",
    "    \n",
    "    "
   ]
  },
  {
   "cell_type": "code",
   "execution_count": 379,
   "metadata": {},
   "outputs": [],
   "source": [
    "Sigma = np.array([[1, 1/2],[1/2, 1]])\n",
    "er = np.array([[0.1], [0.2]])\n",
    "\n",
    "returns = np.linspace(min(er), max(er), 100)\n",
    "carteiras_pi = np.array([np.round(optimal_weights(r, er, Sigma), 2) for r in returns])\n",
    "carteiras_scipy = np.array([minimize_vol(r, er, Sigma).reshape((2, 1)) for r in returns])\n",
    "\n",
    "#for array in (carteiras_pi-carteiras_scipy):\n",
    "#   print(round(np.linalg.norm(array),3)*100, \"%\")\n"
   ]
  },
  {
   "cell_type": "code",
   "execution_count": 384,
   "metadata": {},
   "outputs": [
    {
     "data": {
      "text/plain": [
       "<AxesSubplot:xlabel='Vol'>"
      ]
     },
     "execution_count": 384,
     "metadata": {},
     "output_type": "execute_result"
    },
    {
     "data": {
      "image/png": "[encoded data removed]",
      "text/plain": [
       "<Figure size 864x432 with 1 Axes>"
      ]
     },
     "metadata": {
      "needs_background": "light"
     },
     "output_type": "display_data"
    }
   ],
   "source": [
    "import pandas as pd \n",
    "vol1 = [float(np.sqrt(w.T@Sigma@w)) for w in carteiras_pi]\n",
    "dic1 = {\"Vol\": vol, \"r\": returns.reshape(returns.shape[0])}\n",
    "df1 = pd.DataFrame(dic1)\n",
    "ax = df.plot(x=\"Vol\", y=\"r\", marker = \"x\", color=\"goldenrod\", figsize=(12,6))\n",
    "\n",
    "vol2 = [float(np.sqrt(w.T@Sigma@w)) for w in carteiras_scipy]\n",
    "dic2 = {\"Vol\": vol2, \"r\": returns.reshape(returns.shape[0])}\n",
    "df2 = pd.DataFrame(dic2)\n",
    "df2.plot(x=\"Vol\", y=\"r\", marker = \"x\", color=\"red\", ax = ax)\n",
    "\n"
   ]
  },
  {
   "cell_type": "code",
   "execution_count": 275,
   "metadata": {},
   "outputs": [],
   "source": [
    "from scipy.optimize import minimize\n",
    "\n",
    "def minimize_vol(target_return, er, cov):\n",
    "    \"\"\"\n",
    "    target_ret -> W\n",
    "    \"\"\"\n",
    "    n = er.shape[0]\n",
    "    init_guess = np.repeat(1/n, n)\n",
    "    bounds = ((0.0, 1.0),)*n\n",
    "    weights_sum_to_1 = {'type': 'eq',\n",
    "                        'fun': lambda weights: np.sum(weights) - 1\n",
    "    }\n",
    "    return_is_target = {'type': 'eq',\n",
    "                        'args': (er,),\n",
    "                        'fun': lambda weights, er: target_return - weights.T@er\n",
    "    }\n",
    "    \n",
    "    results = minimize(lambda weights, cov: weights.T@cov@weights, init_guess,\n",
    "                       args=(cov,), method=\"SLSQP\",\n",
    "                       options={\"disp\":False},\n",
    "                       constraints=(return_is_target, weights_sum_to_1),\n",
    "                       bounds=bounds\n",
    "                      )\n",
    "    return results.x\n",
    "    "
   ]
  },
  {
   "cell_type": "code",
   "execution_count": 304,
   "metadata": {},
   "outputs": [
    {
     "data": {
      "text/plain": [
       "array([0.8, 0.2])"
      ]
     },
     "execution_count": 304,
     "metadata": {},
     "output_type": "execute_result"
    }
   ],
   "source": [
    "minimize_vol(0.12, er, Sigma)"
   ]
  },
  {
   "cell_type": "code",
   "execution_count": null,
   "metadata": {},
   "outputs": [],
   "source": []
  }
 ],
 "metadata": {
  "kernelspec": {
   "display_name": "Python 3",
   "language": "python",
   "name": "python3"
  },
  "language_info": {
   "codemirror_mode": {
    "name": "ipython",
    "version": 3
   },
   "file_extension": ".py",
   "mimetype": "text/x-python",
   "name": "python",
   "nbconvert_exporter": "python",
   "pygments_lexer": "ipython3",
   "version": "3.8.5"
  }
 },
 "nbformat": 4,
 "nbformat_minor": 4
}
