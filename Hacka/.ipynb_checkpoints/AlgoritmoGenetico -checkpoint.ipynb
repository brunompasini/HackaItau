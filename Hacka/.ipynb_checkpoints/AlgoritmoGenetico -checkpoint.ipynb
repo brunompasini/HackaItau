{
 "cells": [
  {
   "cell_type": "code",
   "execution_count": 980,
   "metadata": {},
   "outputs": [],
   "source": [
    "import numpy as np \n",
    "import pandas as pd\n",
    "np.random.seed(42)"
   ]
  },
  {
   "cell_type": "code",
   "execution_count": 1104,
   "metadata": {},
   "outputs": [],
   "source": [
    "dados = pd.read_csv(\"dadoss.csv\", delimiter=\";\", decimal=\",\")\n",
    "dados = dados[[\"SAPR4\", \"ELET6\",\"VIVT3\", \"MGLU3\"]]\n",
    "retornos = dados.pct_change().dropna()\n",
    "cov = np.array(retornos.cov())\n",
    "e_r = np.array(retornos.mean()).reshape(4, 1)"
   ]
  },
  {
   "cell_type": "code",
   "execution_count": 1056,
   "metadata": {},
   "outputs": [],
   "source": [
    "def timing(func): \n",
    "    import time      \n",
    "    def wrapper(*args, **kwargs):          \n",
    "        t = time.clock()          \n",
    "        res = func(*args, **kwargs)          \n",
    "        print(func.__name__, time.clock()-t)         \n",
    "        return res      \n",
    "    return wrapper "
   ]
  },
  {
   "cell_type": "code",
   "execution_count": 1057,
   "metadata": {},
   "outputs": [],
   "source": [
    "def minimize_ipm(rp, e_r, cov, w):\n",
    "    n =  e_r.shape[0]\n",
    "    \n",
    "    #Primeiro Chute\n",
    "    #w = (np.random.randn(n)).reshape(n, 1)#Carteira\n",
    "    l = np.array([[1],[1/2]])#Multiplicadores de Lagrange\n",
    "    \n",
    "    #Calculando grad(c(x)) \n",
    "    dc = np.hstack((np.ones((n,1)), e_r))\n",
    "\n",
    "    #Criando a Matriz A\n",
    "    def generate_A(Sigma, dc, n, delta1 = 0, delta2 =0.0):\n",
    "        a = np.hstack([2*Sigma+delta1*np.eye(len(w)), dc])\n",
    "        b = np.hstack([dc.T, np.zeros((2,2))-delta2*np.eye(2)])\n",
    "        return np.vstack((a, b))\n",
    "    \n",
    "    #Criando o vetor b.\n",
    "    def generate_b(Sigma, dc, e_r, l, w, rp):\n",
    "        a = 2*Sigma@w + dc@l\n",
    "        b = np.ones((1,n))@w - 1\n",
    "        c = e_r.T@w - rp\n",
    "        return -1*np.vstack((a, b, c))\n",
    "    \n",
    "    def grad(w, cov, l, dc):\n",
    "        return (2*cov@w+ dc@l)\n",
    "    \n",
    "    A = generate_A(cov, dc, n)\n",
    "    \n",
    "\n",
    "    for i in range(100):                                               #while max(np.abs((grad(w,cov, l, dc)))) > eps:\n",
    "        b = generate_b(cov, dc, e_r, l, w, rp)\n",
    "        #print(\"b: \",b, \"\\n\")\n",
    "        dx = np.linalg.inv(A)@b\n",
    "        #print(\"dx: \", dx, \"\\n\")\n",
    "        dw, dl = dx[0:n][:], dx[n:n+2][:]\n",
    "        w = w + 0.01*dw\n",
    "        #print(\"w: \\n\", w, \"\\n\")\n",
    "        l = l + 0.01*dl\n",
    "        \n",
    "    return w"
   ]
  },
  {
   "cell_type": "code",
   "execution_count": 1119,
   "metadata": {},
   "outputs": [],
   "source": [
    "#@timing\n",
    "def minimize_gen(rp, er, cov):\n",
    "    n = er.shape[0]\n",
    "    \n",
    "    def chromossome(n):\n",
    "        x = np.random.rand(n)\n",
    "        return x/sum(x)\n",
    "    \n",
    "    def fitness_function(w, e_r=e_r, cov=cov, rp=rp, alpha = 10, beta = 100000):\n",
    "        w = w.reshape(n, 1)\n",
    "        return (w.T@cov@w + beta*abs(w.T@e_r -rp))[0][0]\n",
    "    \n",
    "    def select_elite(population):\n",
    "        i = np.argmin([fitness_function(_) for _ in population])\n",
    "        return population[i]\n",
    "    \n",
    "    def new_population(population):\n",
    "        new_population = []\n",
    "        intermediate_population=[]\n",
    "    \n",
    "        elite = select_elite(population)\n",
    "    \n",
    "        for candidate in population:\n",
    "            c1, c2 = population[np.random.randint(0, len(population))][:], population[np.random.randint(0, len(population))][:]\n",
    "            ic = candidate +.1*(c1-c2)\n",
    "        \n",
    "        for j in range(len(candidate)):\n",
    "            ic[j] = np.random.choice([elite[j], ic[j]], size = 1, p=[0.9, 0.1])\n",
    "            \n",
    "        ic = np.where(ic>=0, ic, 0)\n",
    "        \n",
    "        ic = ic/sum(ic)\n",
    "        \n",
    "        if fitness_function(ic) <= fitness_function(candidate):\n",
    "            new_population.append(ic)\n",
    "        else: \n",
    "            new_population.append(candidate)\n",
    "    \n",
    "        return new_population\n",
    "    \n",
    "\n",
    "    population_size = 10\n",
    "    population = np.array([chromossome(n) for _ in range(population_size)])\n",
    "\n",
    "    for i in range(10000):\n",
    "        population = new_population(population)\n",
    "\n",
    "    return(select_elite(population).reshape(n))"
   ]
  },
  {
   "cell_type": "code",
   "execution_count": 1120,
   "metadata": {},
   "outputs": [],
   "source": [
    "from scipy.optimize import minimize\n",
    "\n",
    "def minimize_vol(target_return, er, cov):\n",
    "    \"\"\"\n",
    "    target_ret -> W\n",
    "    \"\"\"\n",
    "    n = er.shape[0]\n",
    "    init_guess = np.repeat(1/n, n)\n",
    "    bounds = ((0.0, 1.0),)*n\n",
    "    weights_sum_to_1 = {'type': 'eq',\n",
    "                        'fun': lambda weights: np.sum(weights) - 1\n",
    "    }\n",
    "    return_is_target = {'type': 'eq',\n",
    "                        'args': (er,),\n",
    "                        'fun' : lambda weights, er: target_return - weights.T@er\n",
    "    }\n",
    "    \n",
    "    results = minimize(lambda weights, cov: weights.T@cov@weights, init_guess,\n",
    "                       args=(cov,), method=\"SLSQP\",\n",
    "                       options={\"disp\":False},\n",
    "                       constraints=(return_is_target, weights_sum_to_1),\n",
    "                       bounds=bounds\n",
    "                  )\n",
    "    return results.x"
   ]
  },
  {
   "cell_type": "code",
   "execution_count": 1121,
   "metadata": {},
   "outputs": [],
   "source": [
    "def minimize_fodastico(rp, er, cov):\n",
    "    w = minimize_gen(rp, er, cov).reshape((4, 1))\n",
    "    w = minimize_ipm(rp, er, cov, w)\n",
    "    \n",
    "    return w"
   ]
  },
  {
   "cell_type": "code",
   "execution_count": 1122,
   "metadata": {},
   "outputs": [],
   "source": [
    "returns = np.linspace(min(e_r), max(e_r), 100)"
   ]
  },
  {
   "cell_type": "code",
   "execution_count": 1123,
   "metadata": {},
   "outputs": [],
   "source": [
    "carteiras_scipy = np.array([minimize_vol(r, e_r, cov).reshape((4, 1)) for r in returns])"
   ]
  },
  {
   "cell_type": "code",
   "execution_count": null,
   "metadata": {
    "scrolled": true
   },
   "outputs": [],
   "source": [
    "carteiras_pi = np.array([minimize_gen(r, e_r, cov) for r in returns])\n",
    "vol1 = [float(np.sqrt(w.T@cov@w)) for w in carteiras_pi]\n",
    "dic1 = {\"Vol\": vol1, \"r\": [float(w@e_r) for w in carteiras_pi]}\n",
    "df1 = pd.DataFrame(dic1)\n",
    "ax = df1.plot(x=\"Vol\", y=\"r\", marker = \"x\", color=\"goldenrod\", figsize=(12,6), kind =\"scatter\")\n",
    "\n",
    "vol2 = [float(np.sqrt(w.T@cov@w)) for w in carteiras_scipy]\n",
    "dic2 = {\"Vol\": vol2, \"r\": [float(w.T@e_r) for w in carteiras_scipy]}\n",
    "df2 = pd.DataFrame(dic2)\n",
    "df2.plot(x=\"Vol\", y=\"r\", marker = \"x\", color=\"red\", ax = ax)"
   ]
  },
  {
   "cell_type": "code",
   "execution_count": 1083,
   "metadata": {
    "scrolled": true
   },
   "outputs": [
    {
     "data": {
      "text/plain": [
       "array([[-1.01272721e-04],\n",
       "       [-7.97502604e-05],\n",
       "       [-5.82277997e-05],\n",
       "       [-3.67053391e-05],\n",
       "       [-1.51828784e-05],\n",
       "       [ 6.33958230e-06],\n",
       "       [ 2.78620430e-05],\n",
       "       [ 4.93845037e-05],\n",
       "       [ 7.09069643e-05],\n",
       "       [ 9.24294250e-05],\n",
       "       [ 1.13951886e-04],\n",
       "       [ 1.35474346e-04],\n",
       "       [ 1.56996807e-04],\n",
       "       [ 1.78519268e-04],\n",
       "       [ 2.00041728e-04],\n",
       "       [ 2.21564189e-04],\n",
       "       [ 2.43086650e-04],\n",
       "       [ 2.64609110e-04],\n",
       "       [ 2.86131571e-04],\n",
       "       [ 3.07654032e-04],\n",
       "       [ 3.29176493e-04],\n",
       "       [ 3.50698953e-04],\n",
       "       [ 3.72221414e-04],\n",
       "       [ 3.93743875e-04],\n",
       "       [ 4.15266335e-04],\n",
       "       [ 4.36788796e-04],\n",
       "       [ 4.58311257e-04],\n",
       "       [ 4.79833717e-04],\n",
       "       [ 5.01356178e-04],\n",
       "       [ 5.22878639e-04],\n",
       "       [ 5.44401099e-04],\n",
       "       [ 5.65923560e-04],\n",
       "       [ 5.87446021e-04],\n",
       "       [ 6.08968481e-04],\n",
       "       [ 6.30490942e-04],\n",
       "       [ 6.52013403e-04],\n",
       "       [ 6.73535863e-04],\n",
       "       [ 6.95058324e-04],\n",
       "       [ 7.16580785e-04],\n",
       "       [ 7.38103245e-04],\n",
       "       [ 7.59625706e-04],\n",
       "       [ 7.81148167e-04],\n",
       "       [ 8.02670627e-04],\n",
       "       [ 8.24193088e-04],\n",
       "       [ 8.45715549e-04],\n",
       "       [ 8.67238010e-04],\n",
       "       [ 8.88760470e-04],\n",
       "       [ 9.10282931e-04],\n",
       "       [ 9.31805392e-04],\n",
       "       [ 9.53327852e-04],\n",
       "       [ 9.74850313e-04],\n",
       "       [ 9.96372774e-04],\n",
       "       [ 1.01789523e-03],\n",
       "       [ 1.03941769e-03],\n",
       "       [ 1.06094016e-03],\n",
       "       [ 1.08246262e-03],\n",
       "       [ 1.10398508e-03],\n",
       "       [ 1.12550754e-03],\n",
       "       [ 1.14703000e-03],\n",
       "       [ 1.16855246e-03],\n",
       "       [ 1.19007492e-03],\n",
       "       [ 1.21159738e-03],\n",
       "       [ 1.23311984e-03],\n",
       "       [ 1.25464230e-03],\n",
       "       [ 1.27616476e-03],\n",
       "       [ 1.29768722e-03],\n",
       "       [ 1.31920968e-03],\n",
       "       [ 1.34073214e-03],\n",
       "       [ 1.36225461e-03],\n",
       "       [ 1.38377707e-03],\n",
       "       [ 1.40529953e-03],\n",
       "       [ 1.42682199e-03],\n",
       "       [ 1.44834445e-03],\n",
       "       [ 1.46986691e-03],\n",
       "       [ 1.49138937e-03],\n",
       "       [ 1.51291183e-03],\n",
       "       [ 1.53443429e-03],\n",
       "       [ 1.55595675e-03],\n",
       "       [ 1.57747921e-03],\n",
       "       [ 1.59900167e-03],\n",
       "       [ 1.62052413e-03],\n",
       "       [ 1.64204659e-03],\n",
       "       [ 1.66356905e-03],\n",
       "       [ 1.68509152e-03],\n",
       "       [ 1.70661398e-03],\n",
       "       [ 1.72813644e-03],\n",
       "       [ 1.74965890e-03],\n",
       "       [ 1.77118136e-03],\n",
       "       [ 1.79270382e-03],\n",
       "       [ 1.81422628e-03],\n",
       "       [ 1.83574874e-03],\n",
       "       [ 1.85727120e-03],\n",
       "       [ 1.87879366e-03],\n",
       "       [ 1.90031612e-03],\n",
       "       [ 1.92183858e-03],\n",
       "       [ 1.94336104e-03],\n",
       "       [ 1.96488350e-03],\n",
       "       [ 1.98640596e-03],\n",
       "       [ 2.00792843e-03],\n",
       "       [ 2.02945089e-03]])"
      ]
     },
     "execution_count": 1083,
     "metadata": {},
     "output_type": "execute_result"
    }
   ],
   "source": [
    "returns"
   ]
  },
  {
   "cell_type": "code",
   "execution_count": 1084,
   "metadata": {},
   "outputs": [
    {
     "data": {
      "text/plain": [
       "array([0.01384706, 0.03513126, 0.45245958, 0.4985621 ])"
      ]
     },
     "execution_count": 1084,
     "metadata": {},
     "output_type": "execute_result"
    }
   ],
   "source": [
    "minimize_gen(returns[0][0], e_r, cov)"
   ]
  },
  {
   "cell_type": "code",
   "execution_count": 1010,
   "metadata": {},
   "outputs": [
    {
     "data": {
      "text/plain": [
       "array([[1.00000000e+00],\n",
       "       [2.90088342e-10],\n",
       "       [2.22044605e-16],\n",
       "       [0.00000000e+00]])"
      ]
     },
     "execution_count": 1010,
     "metadata": {},
     "output_type": "execute_result"
    }
   ],
   "source": [
    "carteiras_scipy[-1]"
   ]
  },
  {
   "cell_type": "code",
   "execution_count": null,
   "metadata": {},
   "outputs": [],
   "source": []
  }
 ],
 "metadata": {
  "kernelspec": {
   "display_name": "Python 3",
   "language": "python",
   "name": "python3"
  },
  "language_info": {
   "codemirror_mode": {
    "name": "ipython",
    "version": 3
   },
   "file_extension": ".py",
   "mimetype": "text/x-python",
   "name": "python",
   "nbconvert_exporter": "python",
   "pygments_lexer": "ipython3",
   "version": "3.8.5"
  }
 },
 "nbformat": 4,
 "nbformat_minor": 4
}
