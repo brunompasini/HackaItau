{
 "cells": [
  {
   "cell_type": "code",
   "execution_count": 3,
   "metadata": {},
   "outputs": [],
   "source": [
    "import os\n",
    "os.chdir(\"modulo/\")"
   ]
  },
  {
   "cell_type": "code",
   "execution_count": 4,
   "metadata": {},
   "outputs": [],
   "source": [
    "import numpy as np \n",
    "import pandas as pd \n",
    "import matplotlib.pyplot as plt"
   ]
  },
  {
   "cell_type": "code",
   "execution_count": 5,
   "metadata": {},
   "outputs": [],
   "source": [
    "os.chdir(\"..\")"
   ]
  },
  {
   "cell_type": "code",
   "execution_count": 6,
   "metadata": {},
   "outputs": [
    {
     "data": {
      "text/plain": [
       "array([[0.39323602],\n",
       "       [0.60676398]])"
      ]
     },
     "execution_count": 6,
     "metadata": {},
     "output_type": "execute_result"
    }
   ],
   "source": [
    "w = (np.random.randn(2)).reshape(2, 1)\n",
    "w = w/sum(w)\n",
    "w"
   ]
  },
  {
   "cell_type": "code",
   "execution_count": 7,
   "metadata": {},
   "outputs": [],
   "source": [
    "import numpy as np\n",
    "\n",
    "def minimize_vol(rp, e_r, cov, eps = 0.0001, alpha= 0.01):\n",
    "    n =  e_r.shape[0]\n",
    "    \n",
    "    #Primeiro Chute\n",
    "    w = (np.random.random(n)).reshape(n, 1)#Carteira\n",
    "    w = w/sum(w)\n",
    "    z = np.reciprocal(w)\n",
    "    l = np.array([[0],[0]])#Multiplicadores de Lagrange\n",
    "    \n",
    "    #Calculando grad(c(x)) \n",
    "    dc = np.hstack((np.ones((n,1)), e_r))\n",
    "\n",
    "    #Criando a Matriz A\n",
    "    def generate_A(Sigma, dc, n):\n",
    "        a = np.hstack([2*Sigma, dc])\n",
    "        b = np.hstack([dc.T, np.zeros((2,2))])\n",
    "        return np.vstack((a, b))\n",
    "    \n",
    "    #Criando o vetor b.\n",
    "    def generate_b(Sigma, dc, e_r, l, w, rp):\n",
    "        a = 2*Sigma@w + dc@l\n",
    "        b = np.ones((1,n))@w - 1\n",
    "        c = e_r.T@w - rp\n",
    "        return -1*np.vstack((a, b, c))\n",
    "    \n",
    "    def grad(w, cov, l, dc):\n",
    "        return (2*cov@w+ dc@l)\n",
    "    \n",
    "    A = generate_A(cov, dc, n)\n",
    "    \n",
    "    i = 0\n",
    "    for i in range(10000):                                             \n",
    "        b = generate_b(cov, dc, e_r, l, w, rp)\n",
    "        #print(\"b: \",b, \"\\n\")\n",
    "        dx = np.linalg.inv(A)@b\n",
    "        #print(\"dx: \", dx, \"\\n\")\n",
    "        dw, dl = dx[0:n][:], dx[n:n+2][:]\n",
    "        w = w + alpha*dw\n",
    "        #print(\"w: \\n\", w, \"\\n\")\n",
    "        l = l + alpha*dl\n",
    "        \n",
    "    return w"
   ]
  },
  {
   "cell_type": "code",
   "execution_count": 8,
   "metadata": {},
   "outputs": [],
   "source": [
    "dados = pd.read_csv(\"dados_ajustados.csv\", decimal= \",\", delimiter =\";\", index_col=\"Data\")\n",
    "retornos = dados.pct_change().dropna()\n",
    "cov = np.array(retornos.cov())\n",
    "e_r = np.array(retornos.mean()).reshape((retornos.shape[1], 1))"
   ]
  },
  {
   "cell_type": "code",
   "execution_count": null,
   "metadata": {
    "scrolled": false
   },
   "outputs": [],
   "source": [
    "returns = np.linspace(min(e_r), max(e_r), 10)\n",
    "carteiras_pi = np.array([minimize_vol(r, e_r, cov) for r in returns])\n",
    "carteiras_scipy = np.array([minimize_vol2(r, e_r, cov).reshape((4, 1)) for r in returns])\n",
    "\n",
    "vol1 = [float(np.sqrt(w.T@cov@w)) for w in carteiras_pi]\n",
    "dic1 = {\"Vol\": vol1, \"r\": returns.reshape(returns.shape[0])}\n",
    "df1 = pd.DataFrame(dic1)\n",
    "ax = df1.plot(x=\"Vol\", y=\"r\", marker = \"x\", color=\"goldenrod\", figsize=(12,6))\n",
    "\n",
    "vol2 = [float(np.sqrt(w.T@cov@w)) for w in carteiras_scipy]\n",
    "dic2 = {\"Vol\": vol2, \"r\": returns.reshape(returns.shape[0])}\n",
    "df2 = pd.DataFrame(dic2)\n",
    "df2.plot(x=\"Vol\", y=\"r\", marker = \"x\", color=\"red\", ax = ax)"
   ]
  },
  {
   "cell_type": "code",
   "execution_count": 27,
   "metadata": {},
   "outputs": [
    {
     "data": {
      "text/plain": [
       "array([[[ 5.50388549e-02],\n",
       "        [-3.06111692e-02],\n",
       "        [-2.62167791e-01],\n",
       "        [ 1.23774010e+00]],\n",
       "\n",
       "       [[ 1.13792545e-01],\n",
       "        [-2.10664162e-02],\n",
       "        [ 8.32277480e-02],\n",
       "        [ 8.24046123e-01]],\n",
       "\n",
       "       [[ 1.72546236e-01],\n",
       "        [-1.15216631e-02],\n",
       "        [ 4.28623287e-01],\n",
       "        [ 4.10352141e-01]],\n",
       "\n",
       "       [[ 2.31299926e-01],\n",
       "        [-1.97691004e-03],\n",
       "        [ 7.74018825e-01],\n",
       "        [-3.34184143e-03]],\n",
       "\n",
       "       [[ 2.90053617e-01],\n",
       "        [ 7.56784302e-03],\n",
       "        [ 1.11941436e+00],\n",
       "        [-4.17035824e-01]],\n",
       "\n",
       "       [[ 3.48807307e-01],\n",
       "        [ 1.71125961e-02],\n",
       "        [ 1.46480990e+00],\n",
       "        [-8.30729806e-01]],\n",
       "\n",
       "       [[ 4.07560998e-01],\n",
       "        [ 2.66573491e-02],\n",
       "        [ 1.81020544e+00],\n",
       "        [-1.24442379e+00]],\n",
       "\n",
       "       [[ 4.66314688e-01],\n",
       "        [ 3.62021022e-02],\n",
       "        [ 2.15560098e+00],\n",
       "        [-1.65811777e+00]],\n",
       "\n",
       "       [[ 5.25068379e-01],\n",
       "        [ 4.57468553e-02],\n",
       "        [ 2.50099652e+00],\n",
       "        [-2.07181175e+00]],\n",
       "\n",
       "       [[ 5.83822069e-01],\n",
       "        [ 5.52916083e-02],\n",
       "        [ 2.84639206e+00],\n",
       "        [-2.48550573e+00]]])"
      ]
     },
     "execution_count": 27,
     "metadata": {},
     "output_type": "execute_result"
    }
   ],
   "source": [
    "carteiras_pi"
   ]
  },
  {
   "cell_type": "code",
   "execution_count": 28,
   "metadata": {},
   "outputs": [
    {
     "data": {
      "text/plain": [
       "array([[[0.00000000e+00],\n",
       "        [2.62919027e-18],\n",
       "        [5.65953534e-17],\n",
       "        [1.00000000e+00]],\n",
       "\n",
       "       [[1.66533454e-16],\n",
       "        [8.50534829e-02],\n",
       "        [4.15203745e-01],\n",
       "        [4.99742772e-01]],\n",
       "\n",
       "       [[5.78973758e-02],\n",
       "        [1.77802764e-01],\n",
       "        [3.58961316e-01],\n",
       "        [4.05338544e-01]],\n",
       "\n",
       "       [[1.52852244e-01],\n",
       "        [2.13459644e-01],\n",
       "        [3.05117513e-01],\n",
       "        [3.28570599e-01]],\n",
       "\n",
       "       [[2.47807112e-01],\n",
       "        [2.49116524e-01],\n",
       "        [2.51273710e-01],\n",
       "        [2.51802654e-01]],\n",
       "\n",
       "       [[3.42761980e-01],\n",
       "        [2.84773404e-01],\n",
       "        [1.97429907e-01],\n",
       "        [1.75034709e-01]],\n",
       "\n",
       "       [[4.37716848e-01],\n",
       "        [3.20430284e-01],\n",
       "        [1.43586104e-01],\n",
       "        [9.82667639e-02]],\n",
       "\n",
       "       [[5.32671716e-01],\n",
       "        [3.56087164e-01],\n",
       "        [8.97423012e-02],\n",
       "        [2.14988189e-02]],\n",
       "\n",
       "       [[6.78230016e-01],\n",
       "        [3.21769984e-01],\n",
       "        [0.00000000e+00],\n",
       "        [0.00000000e+00]],\n",
       "\n",
       "       [[1.00000000e+00],\n",
       "        [2.90088342e-10],\n",
       "        [2.22044605e-16],\n",
       "        [0.00000000e+00]]])"
      ]
     },
     "execution_count": 28,
     "metadata": {},
     "output_type": "execute_result"
    }
   ],
   "source": [
    "carteiras_scipy"
   ]
  },
  {
   "cell_type": "code",
   "execution_count": 20,
   "metadata": {},
   "outputs": [],
   "source": [
    "from scipy.optimize import minimize\n",
    "\n",
    "def minimize_vol2(target_return, er, cov):\n",
    "    \"\"\"\n",
    "    target_ret -> W\n",
    "    \"\"\"\n",
    "    n = er.shape[0]\n",
    "    init_guess = np.repeat(1/n, n)\n",
    "    bounds = ((0.0, 1.0),)*n\n",
    "    weights_sum_to_1 = {'type': 'eq',\n",
    "                        'fun': lambda weights: np.sum(weights) - 1\n",
    "    }\n",
    "    return_is_target = {'type': 'eq',\n",
    "                        'args': (er,),\n",
    "                        'fun': lambda weights, er: target_return - weights.T@er\n",
    "    }\n",
    "    \n",
    "    results = minimize(lambda weights, cov: weights.T@cov@weights, init_guess,\n",
    "                       args=(cov,), method=\"SLSQP\",\n",
    "                       options={\"disp\":False},\n",
    "                       constraints=(return_is_target, weights_sum_to_1),\n",
    "                       bounds=bounds\n",
    "                      )\n",
    "    return results.x\n",
    "    "
   ]
  },
  {
   "cell_type": "code",
   "execution_count": 21,
   "metadata": {
    "scrolled": false
   },
   "outputs": [
    {
     "ename": "NameError",
     "evalue": "name 'delta1' is not defined",
     "output_type": "error",
     "traceback": [
      "\u001b[1;31m---------------------------------------------------------------------------\u001b[0m",
      "\u001b[1;31mNameError\u001b[0m                                 Traceback (most recent call last)",
      "\u001b[1;32m<ipython-input-21-a20ddf8c207c>\u001b[0m in \u001b[0;36m<module>\u001b[1;34m\u001b[0m\n\u001b[0;32m      7\u001b[0m \u001b[1;33m\u001b[0m\u001b[0m\n\u001b[0;32m      8\u001b[0m \u001b[0mreturns\u001b[0m \u001b[1;33m=\u001b[0m \u001b[0mnp\u001b[0m\u001b[1;33m.\u001b[0m\u001b[0mlinspace\u001b[0m\u001b[1;33m(\u001b[0m\u001b[0mmin\u001b[0m\u001b[1;33m(\u001b[0m\u001b[0me_r\u001b[0m\u001b[1;33m)\u001b[0m\u001b[1;33m,\u001b[0m \u001b[0mmax\u001b[0m\u001b[1;33m(\u001b[0m\u001b[0me_r\u001b[0m\u001b[1;33m)\u001b[0m\u001b[1;33m,\u001b[0m \u001b[1;36m10\u001b[0m\u001b[1;33m)\u001b[0m\u001b[1;33m\u001b[0m\u001b[1;33m\u001b[0m\u001b[0m\n\u001b[1;32m----> 9\u001b[1;33m \u001b[0mcarteiras_pi\u001b[0m \u001b[1;33m=\u001b[0m \u001b[0mnp\u001b[0m\u001b[1;33m.\u001b[0m\u001b[0marray\u001b[0m\u001b[1;33m(\u001b[0m\u001b[1;33m[\u001b[0m\u001b[0mnp\u001b[0m\u001b[1;33m.\u001b[0m\u001b[0mround\u001b[0m\u001b[1;33m(\u001b[0m\u001b[0mminimize_vol\u001b[0m\u001b[1;33m(\u001b[0m\u001b[0mr\u001b[0m\u001b[1;33m,\u001b[0m \u001b[0me_r\u001b[0m\u001b[1;33m,\u001b[0m \u001b[0mcov\u001b[0m\u001b[1;33m)\u001b[0m\u001b[1;33m,\u001b[0m \u001b[1;36m2\u001b[0m\u001b[1;33m)\u001b[0m \u001b[1;32mfor\u001b[0m \u001b[0mr\u001b[0m \u001b[1;32min\u001b[0m \u001b[0mreturns\u001b[0m\u001b[1;33m]\u001b[0m\u001b[1;33m)\u001b[0m\u001b[1;33m\u001b[0m\u001b[1;33m\u001b[0m\u001b[0m\n\u001b[0m\u001b[0;32m     10\u001b[0m \u001b[0mcarteiras_scipy\u001b[0m \u001b[1;33m=\u001b[0m \u001b[0mnp\u001b[0m\u001b[1;33m.\u001b[0m\u001b[0marray\u001b[0m\u001b[1;33m(\u001b[0m\u001b[1;33m[\u001b[0m\u001b[0mminimize_vol\u001b[0m\u001b[1;33m(\u001b[0m\u001b[0mr\u001b[0m\u001b[1;33m,\u001b[0m \u001b[0me_r\u001b[0m\u001b[1;33m,\u001b[0m \u001b[0mcov\u001b[0m\u001b[1;33m)\u001b[0m\u001b[1;33m.\u001b[0m\u001b[0mreshape\u001b[0m\u001b[1;33m(\u001b[0m\u001b[1;33m(\u001b[0m\u001b[1;36m2\u001b[0m\u001b[1;33m,\u001b[0m \u001b[1;36m1\u001b[0m\u001b[1;33m)\u001b[0m\u001b[1;33m)\u001b[0m \u001b[1;32mfor\u001b[0m \u001b[0mr\u001b[0m \u001b[1;32min\u001b[0m \u001b[0mreturns\u001b[0m\u001b[1;33m]\u001b[0m\u001b[1;33m)\u001b[0m\u001b[1;33m\u001b[0m\u001b[1;33m\u001b[0m\u001b[0m\n\u001b[0;32m     11\u001b[0m \u001b[1;33m\u001b[0m\u001b[0m\n",
      "\u001b[1;32m<ipython-input-21-a20ddf8c207c>\u001b[0m in \u001b[0;36m<listcomp>\u001b[1;34m(.0)\u001b[0m\n\u001b[0;32m      7\u001b[0m \u001b[1;33m\u001b[0m\u001b[0m\n\u001b[0;32m      8\u001b[0m \u001b[0mreturns\u001b[0m \u001b[1;33m=\u001b[0m \u001b[0mnp\u001b[0m\u001b[1;33m.\u001b[0m\u001b[0mlinspace\u001b[0m\u001b[1;33m(\u001b[0m\u001b[0mmin\u001b[0m\u001b[1;33m(\u001b[0m\u001b[0me_r\u001b[0m\u001b[1;33m)\u001b[0m\u001b[1;33m,\u001b[0m \u001b[0mmax\u001b[0m\u001b[1;33m(\u001b[0m\u001b[0me_r\u001b[0m\u001b[1;33m)\u001b[0m\u001b[1;33m,\u001b[0m \u001b[1;36m10\u001b[0m\u001b[1;33m)\u001b[0m\u001b[1;33m\u001b[0m\u001b[1;33m\u001b[0m\u001b[0m\n\u001b[1;32m----> 9\u001b[1;33m \u001b[0mcarteiras_pi\u001b[0m \u001b[1;33m=\u001b[0m \u001b[0mnp\u001b[0m\u001b[1;33m.\u001b[0m\u001b[0marray\u001b[0m\u001b[1;33m(\u001b[0m\u001b[1;33m[\u001b[0m\u001b[0mnp\u001b[0m\u001b[1;33m.\u001b[0m\u001b[0mround\u001b[0m\u001b[1;33m(\u001b[0m\u001b[0mminimize_vol\u001b[0m\u001b[1;33m(\u001b[0m\u001b[0mr\u001b[0m\u001b[1;33m,\u001b[0m \u001b[0me_r\u001b[0m\u001b[1;33m,\u001b[0m \u001b[0mcov\u001b[0m\u001b[1;33m)\u001b[0m\u001b[1;33m,\u001b[0m \u001b[1;36m2\u001b[0m\u001b[1;33m)\u001b[0m \u001b[1;32mfor\u001b[0m \u001b[0mr\u001b[0m \u001b[1;32min\u001b[0m \u001b[0mreturns\u001b[0m\u001b[1;33m]\u001b[0m\u001b[1;33m)\u001b[0m\u001b[1;33m\u001b[0m\u001b[1;33m\u001b[0m\u001b[0m\n\u001b[0m\u001b[0;32m     10\u001b[0m \u001b[0mcarteiras_scipy\u001b[0m \u001b[1;33m=\u001b[0m \u001b[0mnp\u001b[0m\u001b[1;33m.\u001b[0m\u001b[0marray\u001b[0m\u001b[1;33m(\u001b[0m\u001b[1;33m[\u001b[0m\u001b[0mminimize_vol\u001b[0m\u001b[1;33m(\u001b[0m\u001b[0mr\u001b[0m\u001b[1;33m,\u001b[0m \u001b[0me_r\u001b[0m\u001b[1;33m,\u001b[0m \u001b[0mcov\u001b[0m\u001b[1;33m)\u001b[0m\u001b[1;33m.\u001b[0m\u001b[0mreshape\u001b[0m\u001b[1;33m(\u001b[0m\u001b[1;33m(\u001b[0m\u001b[1;36m2\u001b[0m\u001b[1;33m,\u001b[0m \u001b[1;36m1\u001b[0m\u001b[1;33m)\u001b[0m\u001b[1;33m)\u001b[0m \u001b[1;32mfor\u001b[0m \u001b[0mr\u001b[0m \u001b[1;32min\u001b[0m \u001b[0mreturns\u001b[0m\u001b[1;33m]\u001b[0m\u001b[1;33m)\u001b[0m\u001b[1;33m\u001b[0m\u001b[1;33m\u001b[0m\u001b[0m\n\u001b[0;32m     11\u001b[0m \u001b[1;33m\u001b[0m\u001b[0m\n",
      "\u001b[1;32m<ipython-input-15-7c54afdddb3b>\u001b[0m in \u001b[0;36mminimize_vol\u001b[1;34m(rp, e_r, cov, eps, alpha)\u001b[0m\n\u001b[0;32m     29\u001b[0m         \u001b[1;32mreturn\u001b[0m \u001b[1;33m(\u001b[0m\u001b[1;36m2\u001b[0m\u001b[1;33m*\u001b[0m\u001b[0mcov\u001b[0m\u001b[1;33m@\u001b[0m\u001b[0mw\u001b[0m\u001b[1;33m+\u001b[0m \u001b[0mdc\u001b[0m\u001b[1;33m@\u001b[0m\u001b[0ml\u001b[0m\u001b[1;33m)\u001b[0m\u001b[1;33m\u001b[0m\u001b[1;33m\u001b[0m\u001b[0m\n\u001b[0;32m     30\u001b[0m \u001b[1;33m\u001b[0m\u001b[0m\n\u001b[1;32m---> 31\u001b[1;33m     \u001b[0mA\u001b[0m \u001b[1;33m=\u001b[0m \u001b[0mgenerate_A\u001b[0m\u001b[1;33m(\u001b[0m\u001b[0mcov\u001b[0m\u001b[1;33m,\u001b[0m \u001b[0mdc\u001b[0m\u001b[1;33m,\u001b[0m \u001b[0mn\u001b[0m\u001b[1;33m)\u001b[0m\u001b[1;33m\u001b[0m\u001b[1;33m\u001b[0m\u001b[0m\n\u001b[0m\u001b[0;32m     32\u001b[0m \u001b[1;33m\u001b[0m\u001b[0m\n\u001b[0;32m     33\u001b[0m     \u001b[0mi\u001b[0m \u001b[1;33m=\u001b[0m \u001b[1;36m0\u001b[0m\u001b[1;33m\u001b[0m\u001b[1;33m\u001b[0m\u001b[0m\n",
      "\u001b[1;32m<ipython-input-15-7c54afdddb3b>\u001b[0m in \u001b[0;36mgenerate_A\u001b[1;34m(Sigma, dc, n)\u001b[0m\n\u001b[0;32m     15\u001b[0m     \u001b[1;31m#Criando a Matriz A\u001b[0m\u001b[1;33m\u001b[0m\u001b[1;33m\u001b[0m\u001b[1;33m\u001b[0m\u001b[0m\n\u001b[0;32m     16\u001b[0m     \u001b[1;32mdef\u001b[0m \u001b[0mgenerate_A\u001b[0m\u001b[1;33m(\u001b[0m\u001b[0mSigma\u001b[0m\u001b[1;33m,\u001b[0m \u001b[0mdc\u001b[0m\u001b[1;33m,\u001b[0m \u001b[0mn\u001b[0m\u001b[1;33m)\u001b[0m\u001b[1;33m:\u001b[0m\u001b[1;33m\u001b[0m\u001b[1;33m\u001b[0m\u001b[0m\n\u001b[1;32m---> 17\u001b[1;33m         \u001b[0ma\u001b[0m \u001b[1;33m=\u001b[0m \u001b[0mnp\u001b[0m\u001b[1;33m.\u001b[0m\u001b[0mhstack\u001b[0m\u001b[1;33m(\u001b[0m\u001b[1;33m[\u001b[0m\u001b[1;36m2\u001b[0m\u001b[1;33m*\u001b[0m\u001b[0mSigma\u001b[0m\u001b[1;33m+\u001b[0m\u001b[0mdelta1\u001b[0m\u001b[1;33m*\u001b[0m\u001b[0mnp\u001b[0m\u001b[1;33m.\u001b[0m\u001b[0meye\u001b[0m\u001b[1;33m(\u001b[0m\u001b[0mlen\u001b[0m\u001b[1;33m(\u001b[0m\u001b[0mw\u001b[0m\u001b[1;33m)\u001b[0m\u001b[1;33m)\u001b[0m\u001b[1;33m,\u001b[0m \u001b[0mdc\u001b[0m\u001b[1;33m]\u001b[0m\u001b[1;33m)\u001b[0m\u001b[1;33m\u001b[0m\u001b[1;33m\u001b[0m\u001b[0m\n\u001b[0m\u001b[0;32m     18\u001b[0m         \u001b[0mb\u001b[0m \u001b[1;33m=\u001b[0m \u001b[0mnp\u001b[0m\u001b[1;33m.\u001b[0m\u001b[0mhstack\u001b[0m\u001b[1;33m(\u001b[0m\u001b[1;33m[\u001b[0m\u001b[0mdc\u001b[0m\u001b[1;33m.\u001b[0m\u001b[0mT\u001b[0m\u001b[1;33m,\u001b[0m \u001b[0mnp\u001b[0m\u001b[1;33m.\u001b[0m\u001b[0mzeros\u001b[0m\u001b[1;33m(\u001b[0m\u001b[1;33m(\u001b[0m\u001b[1;36m2\u001b[0m\u001b[1;33m,\u001b[0m\u001b[1;36m2\u001b[0m\u001b[1;33m)\u001b[0m\u001b[1;33m)\u001b[0m\u001b[1;33m-\u001b[0m\u001b[0mdelta2\u001b[0m\u001b[1;33m*\u001b[0m\u001b[0mnp\u001b[0m\u001b[1;33m.\u001b[0m\u001b[0meye\u001b[0m\u001b[1;33m(\u001b[0m\u001b[1;36m2\u001b[0m\u001b[1;33m)\u001b[0m\u001b[1;33m]\u001b[0m\u001b[1;33m)\u001b[0m\u001b[1;33m\u001b[0m\u001b[1;33m\u001b[0m\u001b[0m\n\u001b[0;32m     19\u001b[0m         \u001b[1;32mreturn\u001b[0m \u001b[0mnp\u001b[0m\u001b[1;33m.\u001b[0m\u001b[0mvstack\u001b[0m\u001b[1;33m(\u001b[0m\u001b[1;33m(\u001b[0m\u001b[0ma\u001b[0m\u001b[1;33m,\u001b[0m \u001b[0mb\u001b[0m\u001b[1;33m)\u001b[0m\u001b[1;33m)\u001b[0m\u001b[1;33m\u001b[0m\u001b[1;33m\u001b[0m\u001b[0m\n",
      "\u001b[1;31mNameError\u001b[0m: name 'delta1' is not defined"
     ]
    }
   ],
   "source": [
    "dados = pd.read_csv(\"dados_ajustados.csv\", decimal= \",\", delimiter =\";\")\n",
    "dados = dados[[\"SPXI\", \"IBOV\"]]\n",
    "retornos = dados.pct_change().dropna()\n",
    "cov = np.array(retornos.cov())\n",
    "e_r = np.array(retornos.mean()).reshape(2, 1)\n",
    "\n",
    "\n",
    "returns = np.linspace(min(e_r), max(e_r), 10)\n",
    "carteiras_pi = np.array([np.round(minimize_vol(r, e_r, cov), 2) for r in returns])\n",
    "carteiras_scipy = np.array([minimize_vol(r, e_r, cov).reshape((2, 1)) for r in returns])\n",
    "\n",
    "vol1 = [float(np.sqrt(w.T@cov@w)) for w in carteiras_pi]\n",
    "dic1 = {\"Vol\": vol1, \"r\": returns.reshape(returns.shape[0])}\n",
    "df1 = pd.DataFrame(dic1)\n",
    "ax = df1.plot(x=\"Vol\", y=\"r\", marker = \"x\", color=\"goldenrod\", figsize=(12,6))\n",
    "\n",
    "vol2 = [float(np.sqrt(w.T@cov@w)) for w in carteiras_scipy]\n",
    "dic2 = {\"Vol\": vol2, \"r\": returns.reshape(returns.shape[0])}\n",
    "df2 = pd.DataFrame(dic2)\n",
    "df2.plot(x=\"Vol\", y=\"r\", marker = \"x\", color=\"red\", ax = ax)"
   ]
  },
  {
   "cell_type": "code",
   "execution_count": 22,
   "metadata": {},
   "outputs": [
    {
     "data": {
      "text/plain": [
       "array([[0.00202945],\n",
       "       [0.00129369]])"
      ]
     },
     "execution_count": 22,
     "metadata": {},
     "output_type": "execute_result"
    }
   ],
   "source": [
    "e_r"
   ]
  },
  {
   "cell_type": "code",
   "execution_count": 23,
   "metadata": {},
   "outputs": [
    {
     "data": {
      "text/plain": [
       "array([[2.11616664e-04, 2.15415257e-05],\n",
       "       [2.15415257e-05, 2.21610254e-04]])"
      ]
     },
     "execution_count": 23,
     "metadata": {},
     "output_type": "execute_result"
    }
   ],
   "source": [
    "cov"
   ]
  },
  {
   "cell_type": "code",
   "execution_count": null,
   "metadata": {},
   "outputs": [],
   "source": []
  }
 ],
 "metadata": {
  "kernelspec": {
   "display_name": "Python 3",
   "language": "python",
   "name": "python3"
  },
  "language_info": {
   "codemirror_mode": {
    "name": "ipython",
    "version": 3
   },
   "file_extension": ".py",
   "mimetype": "text/x-python",
   "name": "python",
   "nbconvert_exporter": "python",
   "pygments_lexer": "ipython3",
   "version": "3.8.5"
  }
 },
 "nbformat": 4,
 "nbformat_minor": 4
}
