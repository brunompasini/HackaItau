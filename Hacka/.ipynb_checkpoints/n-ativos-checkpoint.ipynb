{
 "cells": [
  {
   "cell_type": "code",
   "execution_count": 1,
   "metadata": {},
   "outputs": [],
   "source": [
    "import os\n",
    "os.chdir(\"modulo/\")"
   ]
  },
  {
   "cell_type": "markdown",
   "metadata": {},
   "source": [
    "# Hackaton Itaú Asset\n",
    "- Equipe W.O.\n",
    "\n"
   ]
  },
  {
   "cell_type": "markdown",
   "metadata": {},
   "source": [
    "Primeiramente, importaremos as bibliotecas usadas no notebook"
   ]
  },
  {
   "cell_type": "code",
   "execution_count": 2,
   "metadata": {},
   "outputs": [],
   "source": [
    "import numpy as np \n",
    "import pandas as pd \n",
    "import metrics\n",
    "import optimization as opt\n",
    "import matplotlib.pyplot as plt\n",
    "import seaborn as sns\n",
    "from xbbg import blp\n",
    "%load_ext autoreload\n",
    "%autoreload 2"
   ]
  },
  {
   "cell_type": "code",
   "execution_count": 3,
   "metadata": {},
   "outputs": [],
   "source": [
    "os.chdir(\"..\")"
   ]
  },
  {
   "cell_type": "markdown",
   "metadata": {},
   "source": [
    "- Consultando a API da Bloomberg para obtermos os dados necessários.\n",
    "- Como alguns ETFs não possuem a quantidade ideal para estimarmos a matriz de covariância(10 meses), usamos os índices os quais os ETFs replicam."
   ]
  },
  {
   "cell_type": "code",
   "execution_count": 4,
   "metadata": {},
   "outputs": [],
   "source": [
    "dados = blp.bdh(['BOVV11 BZ Equity', 'SPXI11 BZ Equity', \"IMAB11 BZ Equity\",\"IRFM11 BZ Equity\" ], \n",
    "                'PX_LAST', '2016-05-8', '2021-04-30')\n",
    "dados_antigos = blp.bdh([\"IBOV Index\", \"SPXT Index\", \"BZRFIMAB Index\", \"BZRFIRFM Index\"],\n",
    "                       'PX_LAST', '2016-05-8', '2021-04-30')\n",
    "\n",
    "dados.columns = [\"BOVV11\",\"SPXI11\", \"IMAB11\", \"IRFM11\"]\n",
    "dados_antigos.columns = [\"BOVV11\",\"SPXI11\", \"IMAB11\", \"IRFM11\"]\n",
    "\n",
    "retornos = dados.pct_change()\n",
    "retornos_antigos = dados_antigos.pct_change()\n",
    "\n",
    "retornos[retornos.isnull()] = retornos_antigos\n",
    "retornos = retornos.dropna()"
   ]
  },
  {
   "cell_type": "code",
   "execution_count": 5,
   "metadata": {},
   "outputs": [
    {
     "data": {
      "text/html": [
       "<div>\n",
       "<style scoped>\n",
       "    .dataframe tbody tr th:only-of-type {\n",
       "        vertical-align: middle;\n",
       "    }\n",
       "\n",
       "    .dataframe tbody tr th {\n",
       "        vertical-align: top;\n",
       "    }\n",
       "\n",
       "    .dataframe thead th {\n",
       "        text-align: right;\n",
       "    }\n",
       "</style>\n",
       "<table border=\"1\" class=\"dataframe\">\n",
       "  <thead>\n",
       "    <tr style=\"text-align: right;\">\n",
       "      <th></th>\n",
       "      <th>BOVV11</th>\n",
       "      <th>SPXI11</th>\n",
       "      <th>IMAB11</th>\n",
       "      <th>IRFM11</th>\n",
       "    </tr>\n",
       "  </thead>\n",
       "  <tbody>\n",
       "    <tr>\n",
       "      <th>2016-05-10</th>\n",
       "      <td>0.040808</td>\n",
       "      <td>-0.003671</td>\n",
       "      <td>0.008295</td>\n",
       "      <td>0.004789</td>\n",
       "    </tr>\n",
       "    <tr>\n",
       "      <th>2016-05-11</th>\n",
       "      <td>-0.005773</td>\n",
       "      <td>-0.013646</td>\n",
       "      <td>0.004704</td>\n",
       "      <td>0.002928</td>\n",
       "    </tr>\n",
       "    <tr>\n",
       "      <th>2016-05-12</th>\n",
       "      <td>0.009036</td>\n",
       "      <td>0.009131</td>\n",
       "      <td>0.006527</td>\n",
       "      <td>0.002116</td>\n",
       "    </tr>\n",
       "    <tr>\n",
       "      <th>2016-05-13</th>\n",
       "      <td>-0.026990</td>\n",
       "      <td>0.006169</td>\n",
       "      <td>0.001644</td>\n",
       "      <td>-0.000518</td>\n",
       "    </tr>\n",
       "    <tr>\n",
       "      <th>2016-05-16</th>\n",
       "      <td>-0.000027</td>\n",
       "      <td>0.002589</td>\n",
       "      <td>0.001013</td>\n",
       "      <td>-0.000967</td>\n",
       "    </tr>\n",
       "  </tbody>\n",
       "</table>\n",
       "</div>"
      ],
      "text/plain": [
       "              BOVV11    SPXI11    IMAB11    IRFM11\n",
       "2016-05-10  0.040808 -0.003671  0.008295  0.004789\n",
       "2016-05-11 -0.005773 -0.013646  0.004704  0.002928\n",
       "2016-05-12  0.009036  0.009131  0.006527  0.002116\n",
       "2016-05-13 -0.026990  0.006169  0.001644 -0.000518\n",
       "2016-05-16 -0.000027  0.002589  0.001013 -0.000967"
      ]
     },
     "execution_count": 5,
     "metadata": {},
     "output_type": "execute_result"
    }
   ],
   "source": [
    "retornos.head()"
   ]
  },
  {
   "cell_type": "markdown",
   "metadata": {},
   "source": [
    "### Estimando a Matriz de Covariância\n",
    "- Para estimarmos a Matriz de Covariância usamos a técnica apresentada no artigo \"Honey, I Shrunk the Sample Covariance Matrix\".\n",
    "- Nele, os autores propõem uma melhor forma de fugir de erros de amostragem, fazendo uma combinação entre a matriz da amostra mais uma matriz de correlação constante.\n",
    "\n",
    "<center>\n",
    "    $$\\hat{\\Sigma} = \\delta \\hat{S} + (1-\\delta) \\hat{F}$$\n",
    "<center/>\n",
    "Onde $S$ é a matriz da amostra, e $F$ a matriz de correlação constante"
   ]
  },
  {
   "cell_type": "code",
   "execution_count": 6,
   "metadata": {
    "scrolled": true
   },
   "outputs": [
    {
     "data": {
      "text/html": [
       "<div>\n",
       "<style scoped>\n",
       "    .dataframe tbody tr th:only-of-type {\n",
       "        vertical-align: middle;\n",
       "    }\n",
       "\n",
       "    .dataframe tbody tr th {\n",
       "        vertical-align: top;\n",
       "    }\n",
       "\n",
       "    .dataframe thead th {\n",
       "        text-align: right;\n",
       "    }\n",
       "</style>\n",
       "<table border=\"1\" class=\"dataframe\">\n",
       "  <thead>\n",
       "    <tr style=\"text-align: right;\">\n",
       "      <th></th>\n",
       "      <th>BOVV11</th>\n",
       "      <th>SPXI11</th>\n",
       "      <th>IMAB11</th>\n",
       "      <th>IRFM11</th>\n",
       "    </tr>\n",
       "  </thead>\n",
       "  <tbody>\n",
       "    <tr>\n",
       "      <th>BOVV11</th>\n",
       "      <td>0.000292</td>\n",
       "      <td>0.000054</td>\n",
       "      <td>0.000042</td>\n",
       "      <td>0.000015</td>\n",
       "    </tr>\n",
       "    <tr>\n",
       "      <th>SPXI11</th>\n",
       "      <td>0.000054</td>\n",
       "      <td>0.000183</td>\n",
       "      <td>0.000003</td>\n",
       "      <td>-0.000001</td>\n",
       "    </tr>\n",
       "    <tr>\n",
       "      <th>IMAB11</th>\n",
       "      <td>0.000042</td>\n",
       "      <td>0.000003</td>\n",
       "      <td>0.000035</td>\n",
       "      <td>0.000007</td>\n",
       "    </tr>\n",
       "    <tr>\n",
       "      <th>IRFM11</th>\n",
       "      <td>0.000015</td>\n",
       "      <td>-0.000001</td>\n",
       "      <td>0.000007</td>\n",
       "      <td>0.000010</td>\n",
       "    </tr>\n",
       "  </tbody>\n",
       "</table>\n",
       "</div>"
      ],
      "text/plain": [
       "          BOVV11    SPXI11    IMAB11    IRFM11\n",
       "BOVV11  0.000292  0.000054  0.000042  0.000015\n",
       "SPXI11  0.000054  0.000183  0.000003 -0.000001\n",
       "IMAB11  0.000042  0.000003  0.000035  0.000007\n",
       "IRFM11  0.000015 -0.000001  0.000007  0.000010"
      ]
     },
     "execution_count": 6,
     "metadata": {},
     "output_type": "execute_result"
    }
   ],
   "source": [
    "M = metrics.CovarianceEstimator(retornos)\n",
    "Omega, _ = M.honey_shrinkage()\n",
    "pd.DataFrame(Omega, index=retornos.columns, columns=retornos.columns)"
   ]
  },
  {
   "cell_type": "markdown",
   "metadata": {},
   "source": [
    "## Construindo a Fronteira Eficiente\n",
    "- Estimando a média histórica dos preços"
   ]
  },
  {
   "cell_type": "code",
   "execution_count": 7,
   "metadata": {
    "scrolled": false
   },
   "outputs": [],
   "source": [
    "n = retornos.shape[1]\n",
    "er = dados.mean().values.reshape((n,1))"
   ]
  },
  {
   "cell_type": "markdown",
   "metadata": {},
   "source": [
    "- Obtenção da fronteira eficiente"
   ]
  },
  {
   "cell_type": "code",
   "execution_count": 8,
   "metadata": {},
   "outputs": [
    {
     "data": {
      "image/png": "[encoded data removed]",
      "text/plain": [
       "<Figure size 864x432 with 1 Axes>"
      ]
     },
     "metadata": {
      "needs_background": "light"
     },
     "output_type": "display_data"
    }
   ],
   "source": [
    "markowitz = opt.Markowitz(er, Omega, sim=100000)\n",
    "markowitz.draw_ef(n_points = 100)\n",
    "plt.title(\"Fronteira Eficiente\")\n",
    "plt.show()"
   ]
  },
  {
   "cell_type": "code",
   "execution_count": 9,
   "metadata": {},
   "outputs": [
    {
     "name": "stderr",
     "output_type": "stream",
     "text": [
      "[autoreload of optimization failed: Traceback (most recent call last):\n",
      "  File \"C:\\Users\\fetet\\Anaconda3\\lib\\site-packages\\IPython\\extensions\\autoreload.py\", line 245, in check\n",
      "    superreload(m, reload, self.old_objects)\n",
      "  File \"C:\\Users\\fetet\\Anaconda3\\lib\\site-packages\\IPython\\extensions\\autoreload.py\", line 394, in superreload\n",
      "    module = reload(module)\n",
      "  File \"C:\\Users\\fetet\\Anaconda3\\lib\\imp.py\", line 314, in reload\n",
      "    return importlib.reload(module)\n",
      "  File \"C:\\Users\\fetet\\Anaconda3\\lib\\importlib\\__init__.py\", line 168, in reload\n",
      "    raise ModuleNotFoundError(f\"spec not found for the module {name!r}\", name=name)\n",
      "ModuleNotFoundError: spec not found for the module 'optimization'\n",
      "]\n"
     ]
    },
    {
     "ename": "NameError",
     "evalue": "name 'self' is not defined",
     "output_type": "error",
     "traceback": [
      "\u001b[1;31m---------------------------------------------------------------------------\u001b[0m",
      "\u001b[1;31mNameError\u001b[0m                                 Traceback (most recent call last)",
      "\u001b[1;32m<ipython-input-9-80c6deeced06>\u001b[0m in \u001b[0;36m<module>\u001b[1;34m\u001b[0m\n\u001b[1;32m----> 1\u001b[1;33m \u001b[0mretornos\u001b[0m \u001b[1;33m=\u001b[0m \u001b[0mnp\u001b[0m\u001b[1;33m.\u001b[0m\u001b[0mlinspace\u001b[0m\u001b[1;33m(\u001b[0m\u001b[0mnp\u001b[0m\u001b[1;33m.\u001b[0m\u001b[0mmin\u001b[0m\u001b[1;33m(\u001b[0m\u001b[0mself\u001b[0m\u001b[1;33m.\u001b[0m\u001b[0mer\u001b[0m\u001b[1;33m)\u001b[0m\u001b[1;33m,\u001b[0m \u001b[0mnp\u001b[0m\u001b[1;33m.\u001b[0m\u001b[0mmax\u001b[0m\u001b[1;33m(\u001b[0m\u001b[0mself\u001b[0m\u001b[1;33m.\u001b[0m\u001b[0mer\u001b[0m\u001b[1;33m)\u001b[0m\u001b[1;33m,\u001b[0m \u001b[0mn_points\u001b[0m\u001b[1;33m)\u001b[0m\u001b[1;33m\u001b[0m\u001b[1;33m\u001b[0m\u001b[0m\n\u001b[0m\u001b[0;32m      2\u001b[0m \u001b[0mcarteiras\u001b[0m \u001b[1;33m=\u001b[0m \u001b[1;33m[\u001b[0m\u001b[0mself\u001b[0m\u001b[1;33m.\u001b[0m\u001b[0mminimize_montecarlo\u001b[0m\u001b[1;33m(\u001b[0m\u001b[0mi\u001b[0m\u001b[1;33m)\u001b[0m \u001b[1;32mfor\u001b[0m \u001b[0mi\u001b[0m \u001b[1;32min\u001b[0m \u001b[0mretornos\u001b[0m\u001b[1;33m]\u001b[0m\u001b[1;33m\u001b[0m\u001b[1;33m\u001b[0m\u001b[0m\n\u001b[0;32m      3\u001b[0m \u001b[1;33m\u001b[0m\u001b[0m\n\u001b[0;32m      4\u001b[0m \u001b[0mr\u001b[0m \u001b[1;33m=\u001b[0m \u001b[1;33m[\u001b[0m\u001b[0mfloat\u001b[0m\u001b[1;33m(\u001b[0m\u001b[0mmetrics\u001b[0m\u001b[1;33m.\u001b[0m\u001b[0mportfolio_return\u001b[0m\u001b[1;33m(\u001b[0m\u001b[0mcarteira\u001b[0m\u001b[1;33m.\u001b[0m\u001b[0mreshape\u001b[0m\u001b[1;33m(\u001b[0m\u001b[1;36m4\u001b[0m\u001b[1;33m,\u001b[0m\u001b[1;36m1\u001b[0m\u001b[1;33m)\u001b[0m\u001b[1;33m,\u001b[0m \u001b[0mself\u001b[0m\u001b[1;33m.\u001b[0m\u001b[0mer\u001b[0m\u001b[1;33m)\u001b[0m\u001b[1;33m)\u001b[0m \u001b[1;32mfor\u001b[0m \u001b[0mcarteira\u001b[0m \u001b[1;32min\u001b[0m \u001b[0mcarteiras\u001b[0m\u001b[1;33m]\u001b[0m\u001b[1;33m\u001b[0m\u001b[1;33m\u001b[0m\u001b[0m\n\u001b[0;32m      5\u001b[0m \u001b[0mvol\u001b[0m \u001b[1;33m=\u001b[0m \u001b[1;33m[\u001b[0m\u001b[0mfloat\u001b[0m\u001b[1;33m(\u001b[0m\u001b[0mmetrics\u001b[0m\u001b[1;33m.\u001b[0m\u001b[0mportfolio_vol\u001b[0m\u001b[1;33m(\u001b[0m\u001b[0mcarteira\u001b[0m\u001b[1;33m.\u001b[0m\u001b[0mreshape\u001b[0m\u001b[1;33m(\u001b[0m\u001b[1;36m4\u001b[0m\u001b[1;33m,\u001b[0m\u001b[1;36m1\u001b[0m\u001b[1;33m)\u001b[0m\u001b[1;33m,\u001b[0m \u001b[0mself\u001b[0m\u001b[1;33m.\u001b[0m\u001b[0mcov\u001b[0m\u001b[1;33m)\u001b[0m\u001b[1;33m)\u001b[0m \u001b[1;32mfor\u001b[0m \u001b[0mcarteira\u001b[0m \u001b[1;32min\u001b[0m \u001b[0mcarteiras\u001b[0m\u001b[1;33m]\u001b[0m\u001b[1;33m\u001b[0m\u001b[1;33m\u001b[0m\u001b[0m\n",
      "\u001b[1;31mNameError\u001b[0m: name 'self' is not defined"
     ]
    }
   ],
   "source": [
    "retornos = np.linspace(np.min(er), np.max(er), 100)\n",
    "carteiras = [markowitz.minimize_ipm(i) for i in retornos]\n",
    "        \n",
    "r = [float(metrics.portfolio_return(carteira.reshape(4,1), er)) for carteira in carteiras]\n",
    "vol = [float(metrics.portfolio_vol(carteira.reshape(4,1), cov)) for carteira in carteiras]\n",
    "        \n",
    "df = pd.DataFrame({\"Retorno\": r, \"Vol\":vol})"
   ]
  },
  {
   "cell_type": "code",
   "execution_count": null,
   "metadata": {},
   "outputs": [],
   "source": []
  }
 ],
 "metadata": {
  "kernelspec": {
   "display_name": "Python 3",
   "language": "python",
   "name": "python3"
  },
  "language_info": {
   "codemirror_mode": {
    "name": "ipython",
    "version": 3
   },
   "file_extension": ".py",
   "mimetype": "text/x-python",
   "name": "python",
   "nbconvert_exporter": "python",
   "pygments_lexer": "ipython3",
   "version": "3.8.5"
  }
 },
 "nbformat": 4,
 "nbformat_minor": 4
}
