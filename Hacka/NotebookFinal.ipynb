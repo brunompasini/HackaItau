{
 "cells": [
  {
   "cell_type": "code",
   "execution_count": 100,
   "metadata": {},
   "outputs": [
    {
     "ename": "FileNotFoundError",
     "evalue": "[WinError 2] O sistema não pode encontrar o arquivo especificado: 'modulo/'",
     "output_type": "error",
     "traceback": [
      "\u001b[1;31m---------------------------------------------------------------------------\u001b[0m",
      "\u001b[1;31mFileNotFoundError\u001b[0m                         Traceback (most recent call last)",
      "\u001b[1;32m<ipython-input-100-31ddcc4252c6>\u001b[0m in \u001b[0;36m<module>\u001b[1;34m\u001b[0m\n\u001b[0;32m      1\u001b[0m \u001b[1;32mimport\u001b[0m \u001b[0mos\u001b[0m\u001b[1;33m\u001b[0m\u001b[1;33m\u001b[0m\u001b[0m\n\u001b[1;32m----> 2\u001b[1;33m \u001b[0mos\u001b[0m\u001b[1;33m.\u001b[0m\u001b[0mchdir\u001b[0m\u001b[1;33m(\u001b[0m\u001b[1;34m\"modulo/\"\u001b[0m\u001b[1;33m)\u001b[0m\u001b[1;33m\u001b[0m\u001b[1;33m\u001b[0m\u001b[0m\n\u001b[0m",
      "\u001b[1;31mFileNotFoundError\u001b[0m: [WinError 2] O sistema não pode encontrar o arquivo especificado: 'modulo/'"
     ]
    }
   ],
   "source": [
    "import os\n",
    "os.chdir(\"modulo/\")"
   ]
  },
  {
   "cell_type": "markdown",
   "metadata": {},
   "source": [
    "# Hackaton Itaú Asset\n",
    "- Equipe W.O.\n",
    "\n"
   ]
  },
  {
   "cell_type": "markdown",
   "metadata": {},
   "source": [
    "Primeiramente, importaremos as bibliotecas usadas no notebook"
   ]
  },
  {
   "cell_type": "code",
   "execution_count": 48,
   "metadata": {},
   "outputs": [
    {
     "name": "stdout",
     "output_type": "stream",
     "text": [
      "The autoreload extension is already loaded. To reload it, use:\n",
      "  %reload_ext autoreload\n"
     ]
    },
    {
     "data": {
      "text/plain": [
       "<Figure size 96x48 with 0 Axes>"
      ]
     },
     "execution_count": 48,
     "metadata": {},
     "output_type": "execute_result"
    },
    {
     "data": {
      "text/plain": [
       "<Figure size 96x48 with 0 Axes>"
      ]
     },
     "metadata": {},
     "output_type": "display_data"
    }
   ],
   "source": [
    "import numpy as np \n",
    "import pandas as pd \n",
    "import metrics\n",
    "import optimization as opt\n",
    "import matplotlib.pyplot as plt\n",
    "import seaborn as sns\n",
    "from xbbg import blp\n",
    "%load_ext autoreload\n",
    "%autoreload 2\n",
    "from matplotlib.pyplot import figure\n",
    "\n",
    "figure(figsize=(12, 6), dpi=8)"
   ]
  },
  {
   "cell_type": "code",
   "execution_count": 49,
   "metadata": {},
   "outputs": [],
   "source": [
    "os.chdir(\"..\")"
   ]
  },
  {
   "cell_type": "markdown",
   "metadata": {},
   "source": [
    "- Consultando a API da Bloomberg para obtermos os dados necessários.\n",
    "- Como alguns ETFs não possuem a quantidade ideal para estimarmos a matriz de covariância(10 meses), usamos os índices os quais os ETFs replicam."
   ]
  },
  {
   "cell_type": "code",
   "execution_count": 50,
   "metadata": {},
   "outputs": [],
   "source": [
    "dados = blp.bdh(['BOVV11 BZ Equity', 'SPXI11 BZ Equity', \"IMAB11 BZ Equity\",\"IRFM11 BZ Equity\" ], \n",
    "                'PX_LAST', '2016-05-8', '2021-04-30')\n",
    "dados_antigos = blp.bdh([\"IBOV Index\", \"SPXT Index\", \"BZRFIMAB Index\", \"BZRFIRFM Index\"],\n",
    "                       'PX_LAST', '2016-05-8', '2021-04-30')\n",
    "\n",
    "dados.columns = [\"BOVV11\",\"SPXI11\", \"IMAB11\", \"IRFM11\"]\n",
    "dados_antigos.columns = [\"BOVV11\",\"SPXI11\", \"IMAB11\", \"IRFM11\"]\n",
    "\n",
    "retornos = dados.pct_change()\n",
    "retornos_antigos = dados_antigos.pct_change()\n",
    "\n",
    "retornos[retornos.isnull()] = retornos_antigos\n",
    "retornos = retornos.dropna()"
   ]
  },
  {
   "cell_type": "code",
   "execution_count": 51,
   "metadata": {},
   "outputs": [
    {
     "data": {
      "text/html": [
       "<div>\n",
       "<style scoped>\n",
       "    .dataframe tbody tr th:only-of-type {\n",
       "        vertical-align: middle;\n",
       "    }\n",
       "\n",
       "    .dataframe tbody tr th {\n",
       "        vertical-align: top;\n",
       "    }\n",
       "\n",
       "    .dataframe thead th {\n",
       "        text-align: right;\n",
       "    }\n",
       "</style>\n",
       "<table border=\"1\" class=\"dataframe\">\n",
       "  <thead>\n",
       "    <tr style=\"text-align: right;\">\n",
       "      <th></th>\n",
       "      <th>BOVV11</th>\n",
       "      <th>SPXI11</th>\n",
       "      <th>IMAB11</th>\n",
       "      <th>IRFM11</th>\n",
       "    </tr>\n",
       "  </thead>\n",
       "  <tbody>\n",
       "    <tr>\n",
       "      <th>2016-05-10</th>\n",
       "      <td>0.040808</td>\n",
       "      <td>-0.003671</td>\n",
       "      <td>0.008295</td>\n",
       "      <td>0.004789</td>\n",
       "    </tr>\n",
       "    <tr>\n",
       "      <th>2016-05-11</th>\n",
       "      <td>-0.005773</td>\n",
       "      <td>-0.013646</td>\n",
       "      <td>0.004704</td>\n",
       "      <td>0.002928</td>\n",
       "    </tr>\n",
       "    <tr>\n",
       "      <th>2016-05-12</th>\n",
       "      <td>0.009036</td>\n",
       "      <td>0.009131</td>\n",
       "      <td>0.006527</td>\n",
       "      <td>0.002116</td>\n",
       "    </tr>\n",
       "    <tr>\n",
       "      <th>2016-05-13</th>\n",
       "      <td>-0.026990</td>\n",
       "      <td>0.006169</td>\n",
       "      <td>0.001644</td>\n",
       "      <td>-0.000518</td>\n",
       "    </tr>\n",
       "    <tr>\n",
       "      <th>2016-05-16</th>\n",
       "      <td>-0.000027</td>\n",
       "      <td>0.002589</td>\n",
       "      <td>0.001013</td>\n",
       "      <td>-0.000967</td>\n",
       "    </tr>\n",
       "  </tbody>\n",
       "</table>\n",
       "</div>"
      ],
      "text/plain": [
       "              BOVV11    SPXI11    IMAB11    IRFM11\n",
       "2016-05-10  0.040808 -0.003671  0.008295  0.004789\n",
       "2016-05-11 -0.005773 -0.013646  0.004704  0.002928\n",
       "2016-05-12  0.009036  0.009131  0.006527  0.002116\n",
       "2016-05-13 -0.026990  0.006169  0.001644 -0.000518\n",
       "2016-05-16 -0.000027  0.002589  0.001013 -0.000967"
      ]
     },
     "execution_count": 51,
     "metadata": {},
     "output_type": "execute_result"
    }
   ],
   "source": [
    "retornos.head()"
   ]
  },
  {
   "cell_type": "markdown",
   "metadata": {},
   "source": [
    "### Estimando a Matriz de Covariância\n",
    "- Para estimarmos a Matriz de Covariância usamos a técnica apresentada no artigo \"Honey, I Shrunk the Sample Covariance Matrix\".\n",
    "- Nele, os autores propõem uma melhor forma de fugir de erros de amostragem, fazendo uma combinação entre a matriz da amostra mais uma matriz de correlação constante.\n",
    "\n",
    "<center>\n",
    "    $$\\hat{\\Sigma} = \\delta \\hat{S} + (1-\\delta) \\hat{F}$$\n",
    "<center/>\n",
    "Onde $S$ é a matriz da amostra, e $F$ a matriz de correlação constante"
   ]
  },
  {
   "cell_type": "code",
   "execution_count": 52,
   "metadata": {
    "scrolled": true
   },
   "outputs": [
    {
     "data": {
      "text/html": [
       "<div>\n",
       "<style scoped>\n",
       "    .dataframe tbody tr th:only-of-type {\n",
       "        vertical-align: middle;\n",
       "    }\n",
       "\n",
       "    .dataframe tbody tr th {\n",
       "        vertical-align: top;\n",
       "    }\n",
       "\n",
       "    .dataframe thead th {\n",
       "        text-align: right;\n",
       "    }\n",
       "</style>\n",
       "<table border=\"1\" class=\"dataframe\">\n",
       "  <thead>\n",
       "    <tr style=\"text-align: right;\">\n",
       "      <th></th>\n",
       "      <th>BOVV11</th>\n",
       "      <th>SPXI11</th>\n",
       "      <th>IMAB11</th>\n",
       "      <th>IRFM11</th>\n",
       "    </tr>\n",
       "  </thead>\n",
       "  <tbody>\n",
       "    <tr>\n",
       "      <th>BOVV11</th>\n",
       "      <td>0.000292</td>\n",
       "      <td>0.000054</td>\n",
       "      <td>0.000042</td>\n",
       "      <td>0.000015</td>\n",
       "    </tr>\n",
       "    <tr>\n",
       "      <th>SPXI11</th>\n",
       "      <td>0.000054</td>\n",
       "      <td>0.000183</td>\n",
       "      <td>0.000003</td>\n",
       "      <td>-0.000001</td>\n",
       "    </tr>\n",
       "    <tr>\n",
       "      <th>IMAB11</th>\n",
       "      <td>0.000042</td>\n",
       "      <td>0.000003</td>\n",
       "      <td>0.000035</td>\n",
       "      <td>0.000007</td>\n",
       "    </tr>\n",
       "    <tr>\n",
       "      <th>IRFM11</th>\n",
       "      <td>0.000015</td>\n",
       "      <td>-0.000001</td>\n",
       "      <td>0.000007</td>\n",
       "      <td>0.000010</td>\n",
       "    </tr>\n",
       "  </tbody>\n",
       "</table>\n",
       "</div>"
      ],
      "text/plain": [
       "          BOVV11    SPXI11    IMAB11    IRFM11\n",
       "BOVV11  0.000292  0.000054  0.000042  0.000015\n",
       "SPXI11  0.000054  0.000183  0.000003 -0.000001\n",
       "IMAB11  0.000042  0.000003  0.000035  0.000007\n",
       "IRFM11  0.000015 -0.000001  0.000007  0.000010"
      ]
     },
     "execution_count": 52,
     "metadata": {},
     "output_type": "execute_result"
    }
   ],
   "source": [
    "M = metrics.CovarianceEstimator(retornos)\n",
    "Omega, _ = M.honey_shrinkage()\n",
    "pd.DataFrame(Omega, index=retornos.columns, columns=retornos.columns)"
   ]
  },
  {
   "cell_type": "markdown",
   "metadata": {},
   "source": [
    "## Construindo a Fronteira Eficiente\n",
    "- Estimando a média histórica dos preços"
   ]
  },
  {
   "cell_type": "code",
   "execution_count": 54,
   "metadata": {
    "scrolled": false
   },
   "outputs": [],
   "source": [
    "n = retornos.shape[1]\n",
    "er = retornos.mean().values.reshape((n,1))"
   ]
  },
  {
   "cell_type": "code",
   "execution_count": null,
   "metadata": {},
   "outputs": [],
   "source": []
  },
  {
   "cell_type": "code",
   "execution_count": 55,
   "metadata": {},
   "outputs": [
    {
     "data": {
      "text/plain": [
       "array([[0.00083506],\n",
       "       [0.00105984],\n",
       "       [0.00048954],\n",
       "       [0.00040691]])"
      ]
     },
     "execution_count": 55,
     "metadata": {},
     "output_type": "execute_result"
    }
   ],
   "source": [
    "er"
   ]
  },
  {
   "cell_type": "markdown",
   "metadata": {},
   "source": [
    "- Obtenção da fronteira eficiente"
   ]
  },
  {
   "cell_type": "code",
   "execution_count": 56,
   "metadata": {},
   "outputs": [
    {
     "data": {
      "image/png": "[encoded data removed]",
      "text/plain": [
       "<Figure size 864x432 with 1 Axes>"
      ]
     },
     "metadata": {
      "needs_background": "light"
     },
     "output_type": "display_data"
    }
   ],
   "source": [
    "markowitz = opt.Markowitz(er, Omega, sim=100000)\n",
    "ax, df_ipm = markowitz.draw_ef(n_points = 100, method = \"ipm\")\n",
    "plt.title(\"Fronteira Eficiente\")\n",
    "plt.show()"
   ]
  },
  {
   "cell_type": "code",
   "execution_count": 57,
   "metadata": {},
   "outputs": [],
   "source": [
    "colunas = ['Retorno', \"Volatilidade\"]\n",
    "colunas.extend(list(retornos.columns))\n",
    "df_ipm.columns = colunas\n"
   ]
  },
  {
   "cell_type": "code",
   "execution_count": 58,
   "metadata": {},
   "outputs": [
    {
     "data": {
      "image/png": "[encoded data removed]",
      "text/plain": [
       "<Figure size 432x288 with 1 Axes>"
      ]
     },
     "metadata": {
      "needs_background": "light"
     },
     "output_type": "display_data"
    }
   ],
   "source": [
    "import matplotlib.pyplot as plt\n",
    "fig, ax = plt.subplots()\n",
    "ax.stackplot(df[\"Volatilidade\"], df.BOVV11, df.SPXI11,df.IMAB11, df.IRFM11, labels = [\"BOVV11\", \"SPXI11\", \"IMAB11\", \"IRFM11\"])\n",
    "plt.title(\"Pesos Obtidos pelo método do Ponto Interior (W.I.P.)\")\n",
    "plt.xlabel(\"Volatilidade\")\n",
    "plt.ylabel(\"Retornos\")\n",
    "plt.ylim((-1, 2))\n",
    "plt.legend()\n",
    "plt.show()"
   ]
  },
  {
   "cell_type": "code",
   "execution_count": 59,
   "metadata": {},
   "outputs": [
    {
     "data": {
      "image/png": "[encoded data removed]",
      "text/plain": [
       "<Figure size 864x432 with 1 Axes>"
      ]
     },
     "metadata": {
      "needs_background": "light"
     },
     "output_type": "display_data"
    }
   ],
   "source": [
    "markowitz = opt.Markowitz(er, Omega, sim=100000)\n",
    "ax, df_montecarlo = markowitz.draw_ef(n_points = 100, method = \"montecarlo\")\n",
    "plt.title(\"Fronteira Eficiente\")\n",
    "plt.show()"
   ]
  },
  {
   "cell_type": "code",
   "execution_count": 63,
   "metadata": {
    "scrolled": true
   },
   "outputs": [
    {
     "data": {
      "image/png": "[encoded data removed]",
      "text/plain": [
       "<Figure size 432x288 with 1 Axes>"
      ]
     },
     "metadata": {
      "needs_background": "light"
     },
     "output_type": "display_data"
    }
   ],
   "source": [
    "colunas = ['Retorno', \"Volatilidade\"]\n",
    "colunas.extend(list(retornos.columns))\n",
    "df_montecarlo.columns = colunas\n",
    "\n",
    "fig, ax = plt.subplots()\n",
    "ax.stackplot(df_montecarlo[\"Volatilidade\"], df_montecarlo.BOVV11, \n",
    "             df_montecarlo.SPXI11,df_montecarlo.IMAB11, df_montecarlo.IRFM11, \n",
    "             labels = [\"BOVV11\", \"SPXI11\", \"IMAB11\", \"IRFM11\"])\n",
    "plt.title(\"Pesos Obtidos pelo método de MonteCarlo\")\n",
    "plt.xlabel(\"Volatilidade\")\n",
    "plt.ylabel(\"Percentual na Carteira\")\n",
    "plt.ylim((0, 1))\n",
    "plt.xlim((0.003,0.013))\n",
    "plt.legend()\n",
    "plt.show()"
   ]
  },
  {
   "cell_type": "markdown",
   "metadata": {},
   "source": [
    "## VAR "
   ]
  },
  {
   "cell_type": "code",
   "execution_count": 79,
   "metadata": {},
   "outputs": [],
   "source": [
    "from scipy.stats import norm\n",
    "\n",
    "es = 0.011\n",
    "t = 30"
   ]
  },
  {
   "cell_type": "code",
   "execution_count": 99,
   "metadata": {
    "scrolled": true
   },
   "outputs": [
    {
     "data": {
      "text/html": [
       "<div>\n",
       "<style scoped>\n",
       "    .dataframe tbody tr th:only-of-type {\n",
       "        vertical-align: middle;\n",
       "    }\n",
       "\n",
       "    .dataframe tbody tr th {\n",
       "        vertical-align: top;\n",
       "    }\n",
       "\n",
       "    .dataframe thead th {\n",
       "        text-align: right;\n",
       "    }\n",
       "</style>\n",
       "<table border=\"1\" class=\"dataframe\">\n",
       "  <thead>\n",
       "    <tr style=\"text-align: right;\">\n",
       "      <th></th>\n",
       "      <th>Retorno</th>\n",
       "      <th>Volatilidade</th>\n",
       "      <th>BOVV11</th>\n",
       "      <th>SPXI11</th>\n",
       "      <th>IMAB11</th>\n",
       "      <th>IRFM11</th>\n",
       "      <th>Var</th>\n",
       "    </tr>\n",
       "  </thead>\n",
       "  <tbody>\n",
       "    <tr>\n",
       "      <th>0</th>\n",
       "      <td>0.000457</td>\n",
       "      <td>0.003076</td>\n",
       "      <td>0.001101</td>\n",
       "      <td>0.066634</td>\n",
       "      <td>0.073027</td>\n",
       "      <td>0.859238</td>\n",
       "      <td>0.025213</td>\n",
       "    </tr>\n",
       "    <tr>\n",
       "      <th>1</th>\n",
       "      <td>0.000457</td>\n",
       "      <td>0.003076</td>\n",
       "      <td>0.001101</td>\n",
       "      <td>0.066634</td>\n",
       "      <td>0.073027</td>\n",
       "      <td>0.859238</td>\n",
       "      <td>0.025213</td>\n",
       "    </tr>\n",
       "    <tr>\n",
       "      <th>2</th>\n",
       "      <td>0.000457</td>\n",
       "      <td>0.003076</td>\n",
       "      <td>0.001101</td>\n",
       "      <td>0.066634</td>\n",
       "      <td>0.073027</td>\n",
       "      <td>0.859238</td>\n",
       "      <td>0.025213</td>\n",
       "    </tr>\n",
       "    <tr>\n",
       "      <th>3</th>\n",
       "      <td>0.000457</td>\n",
       "      <td>0.003076</td>\n",
       "      <td>0.001101</td>\n",
       "      <td>0.066634</td>\n",
       "      <td>0.073027</td>\n",
       "      <td>0.859238</td>\n",
       "      <td>0.025213</td>\n",
       "    </tr>\n",
       "    <tr>\n",
       "      <th>4</th>\n",
       "      <td>0.000457</td>\n",
       "      <td>0.003076</td>\n",
       "      <td>0.001101</td>\n",
       "      <td>0.066634</td>\n",
       "      <td>0.073027</td>\n",
       "      <td>0.859238</td>\n",
       "      <td>0.025213</td>\n",
       "    </tr>\n",
       "    <tr>\n",
       "      <th>5</th>\n",
       "      <td>0.000457</td>\n",
       "      <td>0.003076</td>\n",
       "      <td>0.001101</td>\n",
       "      <td>0.066634</td>\n",
       "      <td>0.073027</td>\n",
       "      <td>0.859238</td>\n",
       "      <td>0.025213</td>\n",
       "    </tr>\n",
       "    <tr>\n",
       "      <th>6</th>\n",
       "      <td>0.000457</td>\n",
       "      <td>0.003076</td>\n",
       "      <td>0.001101</td>\n",
       "      <td>0.066634</td>\n",
       "      <td>0.073027</td>\n",
       "      <td>0.859238</td>\n",
       "      <td>0.025213</td>\n",
       "    </tr>\n",
       "    <tr>\n",
       "      <th>7</th>\n",
       "      <td>0.000457</td>\n",
       "      <td>0.003076</td>\n",
       "      <td>0.001101</td>\n",
       "      <td>0.066634</td>\n",
       "      <td>0.073027</td>\n",
       "      <td>0.859238</td>\n",
       "      <td>0.025213</td>\n",
       "    </tr>\n",
       "  </tbody>\n",
       "</table>\n",
       "</div>"
      ],
      "text/plain": [
       "    Retorno  Volatilidade    BOVV11    SPXI11    IMAB11    IRFM11       Var\n",
       "0  0.000457      0.003076  0.001101  0.066634  0.073027  0.859238  0.025213\n",
       "1  0.000457      0.003076  0.001101  0.066634  0.073027  0.859238  0.025213\n",
       "2  0.000457      0.003076  0.001101  0.066634  0.073027  0.859238  0.025213\n",
       "3  0.000457      0.003076  0.001101  0.066634  0.073027  0.859238  0.025213\n",
       "4  0.000457      0.003076  0.001101  0.066634  0.073027  0.859238  0.025213\n",
       "5  0.000457      0.003076  0.001101  0.066634  0.073027  0.859238  0.025213\n",
       "6  0.000457      0.003076  0.001101  0.066634  0.073027  0.859238  0.025213\n",
       "7  0.000457      0.003076  0.001101  0.066634  0.073027  0.859238  0.025213"
      ]
     },
     "execution_count": 99,
     "metadata": {},
     "output_type": "execute_result"
    }
   ],
   "source": [
    "df_montecarlo[\"Var\"] = abs(norm.ppf(0.05, df_montecarlo[\"Retorno\"], df_montecarlo[\"Volatilidade\"]))*np.sqrt(t)\n",
    "possiveis_carteiras = df_montecarlo[abs(df_montecarlo[\"Var\"]- es)< 0.0143]\n",
    "possiveis_carteiras"
   ]
  }
 ],
 "metadata": {
  "kernelspec": {
   "display_name": "Python 3",
   "language": "python",
   "name": "python3"
  },
  "language_info": {
   "codemirror_mode": {
    "name": "ipython",
    "version": 3
   },
   "file_extension": ".py",
   "mimetype": "text/x-python",
   "name": "python",
   "nbconvert_exporter": "python",
   "pygments_lexer": "ipython3",
   "version": "3.8.5"
  }
 },
 "nbformat": 4,
 "nbformat_minor": 4
}
